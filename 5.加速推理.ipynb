{
 "cells": [
  {
   "cell_type": "markdown",
   "id": "484b533d-00b7-4d32-a679-16101a3fee26",
   "metadata": {},
   "source": [
    "# 5. 加速推理\n",
    "\n",
    "Treelite 是一个决策树推理工具，它支持对 XGBoost, LightGBM, sklearn 格式的模型加速。\n",
    "\n",
    "在使用 CPU 推理时，它支持将模型编译成 .so 文件，在指令层面对决策树的分支进行分支预测等优化，加快推理速度。"
   ]
  },
  {
   "cell_type": "code",
   "execution_count": 1,
   "id": "a096bd74-9d9e-4288-9c38-8ad9eda98840",
   "metadata": {
    "execution": {
     "iopub.execute_input": "2024-07-08T14:46:24.405896Z",
     "iopub.status.busy": "2024-07-08T14:46:24.405501Z",
     "iopub.status.idle": "2024-07-08T14:46:24.409567Z",
     "shell.execute_reply": "2024-07-08T14:46:24.408488Z",
     "shell.execute_reply.started": "2024-07-08T14:46:24.405866Z"
    }
   },
   "outputs": [],
   "source": [
    "# !pip install treelite\n",
    "# !pip install tl2cgen"
   ]
  },
  {
   "cell_type": "code",
   "execution_count": 2,
   "id": "7fb9ef5f-847d-4548-846c-5981b1cb1d80",
   "metadata": {
    "execution": {
     "iopub.execute_input": "2024-07-08T14:46:24.412517Z",
     "iopub.status.busy": "2024-07-08T14:46:24.411925Z",
     "iopub.status.idle": "2024-07-08T14:46:24.416869Z",
     "shell.execute_reply": "2024-07-08T14:46:24.416166Z",
     "shell.execute_reply.started": "2024-07-08T14:46:24.412489Z"
    }
   },
   "outputs": [],
   "source": [
    "DIRECTORY = './data'\n",
    "TEST_FILE = 'adult/adult.test'\n",
    "MODEL_FILE = 'model_best.txt'\n",
    "KKV_FILE = 'label_encoder_deploy.json'\n",
    "SO_FILE = 'predictor.so'\n",
    "COLS = ['age', 'workclass', 'fnlwgt', 'education', 'education-num', 'marital-status',\n",
    "        'occupation', 'relationship', 'race', 'sex', 'capital-gain', 'capital-loss',\n",
    "        'hours-per-week', 'native-country', 'income']\n",
    "LABEL_COL = 'income'"
   ]
  },
  {
   "cell_type": "code",
   "execution_count": 3,
   "id": "8c610c30-3bef-49d2-abef-135ae2715f27",
   "metadata": {
    "execution": {
     "iopub.execute_input": "2024-07-08T14:46:25.195840Z",
     "iopub.status.busy": "2024-07-08T14:46:25.195328Z",
     "iopub.status.idle": "2024-07-08T14:46:28.370559Z",
     "shell.execute_reply": "2024-07-08T14:46:28.369764Z",
     "shell.execute_reply.started": "2024-07-08T14:46:25.195800Z"
    }
   },
   "outputs": [],
   "source": [
    "# coding: utf-8\n",
    "import time\n",
    "import numpy as np\n",
    "import treelite\n",
    "import tl2cgen\n",
    "import lightgbm as lgb\n",
    "\n",
    "import util"
   ]
  },
  {
   "cell_type": "markdown",
   "id": "bb2e21d8-afec-49f1-8250-772f71e49a45",
   "metadata": {},
   "source": [
    "## 一、导入模型和数据\n",
    "\n",
    "导入 LightGBM 模型"
   ]
  },
  {
   "cell_type": "code",
   "execution_count": 4,
   "id": "e90d919d-e76b-4ad1-bc31-ae1fe3c958a7",
   "metadata": {
    "execution": {
     "execution_failed": "2024-07-08T14:46:29.927Z",
     "iopub.execute_input": "2024-07-08T14:46:28.380980Z",
     "iopub.status.busy": "2024-07-08T14:46:28.380417Z"
    }
   },
   "outputs": [],
   "source": [
    "model_path = util.gen_abspath(DIRECTORY, MODEL_FILE)\n",
    "\n",
    "# 用 LightGBM 从模型文件加载模型\n",
    "bst = lgb.Booster(model_file=model_path)\n",
    "\n",
    "# 用 Treelite 从模型文件加载模型\n",
    "model = treelite.frontend.load_lightgbm_model(model_path)"
   ]
  },
  {
   "cell_type": "code",
   "execution_count": 5,
   "id": "adae8060-dc4e-42bc-b9ed-cbe640ee335c",
   "metadata": {},
   "outputs": [
    {
     "name": "stderr",
     "output_type": "stream",
     "text": [
      "[23:29:58] /private/var/folders/24/8k48jl6d249_n_qfxwsl6xvm0000gn/T/tmpfk_zrtwk/libbuild/_deps/treelite-src/src/serializer.cc:202: The model you are loading originated from a newer Treelite version; some functionalities may be unavailable.\n",
      "Currently running Treelite version 4.1.2\n",
      "The model checkpoint was generated from Treelite version 4.2.1\n"
     ]
    },
    {
     "name": "stdout",
     "output_type": "stream",
     "text": [
      "[23:29:58] /Users/runner/work/tl2cgen/tl2cgen/src/compiler/ast/split.cc:30: Parallel compilation disabled; all member trees will be dumped to a single source file. This may increase compilation time and memory usage.\n"
     ]
    }
   ],
   "source": [
    "# 获取 .so 文件路径\n",
    "so_path = util.gen_abspath(DIRECTORY, SO_FILE)\n",
    "\n",
    "# 编译 .so 文件\n",
    "tl2cgen.export_lib(model, toolchain=\"gcc\", libpath=so_path)"
   ]
  },
  {
   "cell_type": "code",
   "execution_count": 6,
   "id": "30c2f483-41ea-4355-bc7c-f2173f01e7e5",
   "metadata": {},
   "outputs": [
    {
     "data": {
      "text/plain": [
       "<tl2cgen.predictor.Predictor at 0x7fbae56fe8f0>"
      ]
     },
     "execution_count": 6,
     "metadata": {},
     "output_type": "execute_result"
    }
   ],
   "source": [
    "# 加载 .so 文件\n",
    "predictor = tl2cgen.Predictor(so_path)\n",
    "predictor"
   ]
  },
  {
   "cell_type": "markdown",
   "id": "15be4fe9-aba9-477b-ba8c-1e6c96fbc6a9",
   "metadata": {},
   "source": [
    "导入样本数据"
   ]
  },
  {
   "cell_type": "code",
   "execution_count": 7,
   "id": "ab204735-cd8d-4c2f-989b-4184fdff55c6",
   "metadata": {},
   "outputs": [
    {
     "data": {
      "text/html": [
       "<div>\n",
       "<style scoped>\n",
       "    .dataframe tbody tr th:only-of-type {\n",
       "        vertical-align: middle;\n",
       "    }\n",
       "\n",
       "    .dataframe tbody tr th {\n",
       "        vertical-align: top;\n",
       "    }\n",
       "\n",
       "    .dataframe thead th {\n",
       "        text-align: right;\n",
       "    }\n",
       "</style>\n",
       "<table border=\"1\" class=\"dataframe\">\n",
       "  <thead>\n",
       "    <tr style=\"text-align: right;\">\n",
       "      <th></th>\n",
       "      <th>age</th>\n",
       "      <th>workclass</th>\n",
       "      <th>fnlwgt</th>\n",
       "      <th>education</th>\n",
       "      <th>education-num</th>\n",
       "      <th>marital-status</th>\n",
       "      <th>occupation</th>\n",
       "      <th>relationship</th>\n",
       "      <th>race</th>\n",
       "      <th>sex</th>\n",
       "      <th>capital-gain</th>\n",
       "      <th>capital-loss</th>\n",
       "      <th>hours-per-week</th>\n",
       "      <th>native-country</th>\n",
       "      <th>income</th>\n",
       "    </tr>\n",
       "  </thead>\n",
       "  <tbody>\n",
       "    <tr>\n",
       "      <th>0</th>\n",
       "      <td>25</td>\n",
       "      <td>Private</td>\n",
       "      <td>226802</td>\n",
       "      <td>11th</td>\n",
       "      <td>7</td>\n",
       "      <td>Never-married</td>\n",
       "      <td>Machine-op-inspct</td>\n",
       "      <td>Own-child</td>\n",
       "      <td>Black</td>\n",
       "      <td>Male</td>\n",
       "      <td>0</td>\n",
       "      <td>0</td>\n",
       "      <td>40</td>\n",
       "      <td>United-States</td>\n",
       "      <td>&lt;=50K.</td>\n",
       "    </tr>\n",
       "    <tr>\n",
       "      <th>1</th>\n",
       "      <td>38</td>\n",
       "      <td>Private</td>\n",
       "      <td>89814</td>\n",
       "      <td>HS-grad</td>\n",
       "      <td>9</td>\n",
       "      <td>Married-civ-spouse</td>\n",
       "      <td>Farming-fishing</td>\n",
       "      <td>Husband</td>\n",
       "      <td>White</td>\n",
       "      <td>Male</td>\n",
       "      <td>0</td>\n",
       "      <td>0</td>\n",
       "      <td>50</td>\n",
       "      <td>United-States</td>\n",
       "      <td>&lt;=50K.</td>\n",
       "    </tr>\n",
       "    <tr>\n",
       "      <th>2</th>\n",
       "      <td>28</td>\n",
       "      <td>Local-gov</td>\n",
       "      <td>336951</td>\n",
       "      <td>Assoc-acdm</td>\n",
       "      <td>12</td>\n",
       "      <td>Married-civ-spouse</td>\n",
       "      <td>Protective-serv</td>\n",
       "      <td>Husband</td>\n",
       "      <td>White</td>\n",
       "      <td>Male</td>\n",
       "      <td>0</td>\n",
       "      <td>0</td>\n",
       "      <td>40</td>\n",
       "      <td>United-States</td>\n",
       "      <td>&gt;50K.</td>\n",
       "    </tr>\n",
       "    <tr>\n",
       "      <th>3</th>\n",
       "      <td>44</td>\n",
       "      <td>Private</td>\n",
       "      <td>160323</td>\n",
       "      <td>Some-college</td>\n",
       "      <td>10</td>\n",
       "      <td>Married-civ-spouse</td>\n",
       "      <td>Machine-op-inspct</td>\n",
       "      <td>Husband</td>\n",
       "      <td>Black</td>\n",
       "      <td>Male</td>\n",
       "      <td>7688</td>\n",
       "      <td>0</td>\n",
       "      <td>40</td>\n",
       "      <td>United-States</td>\n",
       "      <td>&gt;50K.</td>\n",
       "    </tr>\n",
       "    <tr>\n",
       "      <th>4</th>\n",
       "      <td>18</td>\n",
       "      <td>?</td>\n",
       "      <td>103497</td>\n",
       "      <td>Some-college</td>\n",
       "      <td>10</td>\n",
       "      <td>Never-married</td>\n",
       "      <td>?</td>\n",
       "      <td>Own-child</td>\n",
       "      <td>White</td>\n",
       "      <td>Female</td>\n",
       "      <td>0</td>\n",
       "      <td>0</td>\n",
       "      <td>30</td>\n",
       "      <td>United-States</td>\n",
       "      <td>&lt;=50K.</td>\n",
       "    </tr>\n",
       "    <tr>\n",
       "      <th>...</th>\n",
       "      <td>...</td>\n",
       "      <td>...</td>\n",
       "      <td>...</td>\n",
       "      <td>...</td>\n",
       "      <td>...</td>\n",
       "      <td>...</td>\n",
       "      <td>...</td>\n",
       "      <td>...</td>\n",
       "      <td>...</td>\n",
       "      <td>...</td>\n",
       "      <td>...</td>\n",
       "      <td>...</td>\n",
       "      <td>...</td>\n",
       "      <td>...</td>\n",
       "      <td>...</td>\n",
       "    </tr>\n",
       "    <tr>\n",
       "      <th>16276</th>\n",
       "      <td>39</td>\n",
       "      <td>Private</td>\n",
       "      <td>215419</td>\n",
       "      <td>Bachelors</td>\n",
       "      <td>13</td>\n",
       "      <td>Divorced</td>\n",
       "      <td>Prof-specialty</td>\n",
       "      <td>Not-in-family</td>\n",
       "      <td>White</td>\n",
       "      <td>Female</td>\n",
       "      <td>0</td>\n",
       "      <td>0</td>\n",
       "      <td>36</td>\n",
       "      <td>United-States</td>\n",
       "      <td>&lt;=50K.</td>\n",
       "    </tr>\n",
       "    <tr>\n",
       "      <th>16277</th>\n",
       "      <td>64</td>\n",
       "      <td>?</td>\n",
       "      <td>321403</td>\n",
       "      <td>HS-grad</td>\n",
       "      <td>9</td>\n",
       "      <td>Widowed</td>\n",
       "      <td>?</td>\n",
       "      <td>Other-relative</td>\n",
       "      <td>Black</td>\n",
       "      <td>Male</td>\n",
       "      <td>0</td>\n",
       "      <td>0</td>\n",
       "      <td>40</td>\n",
       "      <td>United-States</td>\n",
       "      <td>&lt;=50K.</td>\n",
       "    </tr>\n",
       "    <tr>\n",
       "      <th>16278</th>\n",
       "      <td>38</td>\n",
       "      <td>Private</td>\n",
       "      <td>374983</td>\n",
       "      <td>Bachelors</td>\n",
       "      <td>13</td>\n",
       "      <td>Married-civ-spouse</td>\n",
       "      <td>Prof-specialty</td>\n",
       "      <td>Husband</td>\n",
       "      <td>White</td>\n",
       "      <td>Male</td>\n",
       "      <td>0</td>\n",
       "      <td>0</td>\n",
       "      <td>50</td>\n",
       "      <td>United-States</td>\n",
       "      <td>&lt;=50K.</td>\n",
       "    </tr>\n",
       "    <tr>\n",
       "      <th>16279</th>\n",
       "      <td>44</td>\n",
       "      <td>Private</td>\n",
       "      <td>83891</td>\n",
       "      <td>Bachelors</td>\n",
       "      <td>13</td>\n",
       "      <td>Divorced</td>\n",
       "      <td>Adm-clerical</td>\n",
       "      <td>Own-child</td>\n",
       "      <td>Asian-Pac-Islander</td>\n",
       "      <td>Male</td>\n",
       "      <td>5455</td>\n",
       "      <td>0</td>\n",
       "      <td>40</td>\n",
       "      <td>United-States</td>\n",
       "      <td>&lt;=50K.</td>\n",
       "    </tr>\n",
       "    <tr>\n",
       "      <th>16280</th>\n",
       "      <td>35</td>\n",
       "      <td>Self-emp-inc</td>\n",
       "      <td>182148</td>\n",
       "      <td>Bachelors</td>\n",
       "      <td>13</td>\n",
       "      <td>Married-civ-spouse</td>\n",
       "      <td>Exec-managerial</td>\n",
       "      <td>Husband</td>\n",
       "      <td>White</td>\n",
       "      <td>Male</td>\n",
       "      <td>0</td>\n",
       "      <td>0</td>\n",
       "      <td>60</td>\n",
       "      <td>United-States</td>\n",
       "      <td>&gt;50K.</td>\n",
       "    </tr>\n",
       "  </tbody>\n",
       "</table>\n",
       "<p>16281 rows × 15 columns</p>\n",
       "</div>"
      ],
      "text/plain": [
       "       age      workclass  fnlwgt      education  education-num  \\\n",
       "0       25        Private  226802           11th              7   \n",
       "1       38        Private   89814        HS-grad              9   \n",
       "2       28      Local-gov  336951     Assoc-acdm             12   \n",
       "3       44        Private  160323   Some-college             10   \n",
       "4       18              ?  103497   Some-college             10   \n",
       "...    ...            ...     ...            ...            ...   \n",
       "16276   39        Private  215419      Bachelors             13   \n",
       "16277   64              ?  321403        HS-grad              9   \n",
       "16278   38        Private  374983      Bachelors             13   \n",
       "16279   44        Private   83891      Bachelors             13   \n",
       "16280   35   Self-emp-inc  182148      Bachelors             13   \n",
       "\n",
       "            marital-status          occupation     relationship  \\\n",
       "0            Never-married   Machine-op-inspct        Own-child   \n",
       "1       Married-civ-spouse     Farming-fishing          Husband   \n",
       "2       Married-civ-spouse     Protective-serv          Husband   \n",
       "3       Married-civ-spouse   Machine-op-inspct          Husband   \n",
       "4            Never-married                   ?        Own-child   \n",
       "...                    ...                 ...              ...   \n",
       "16276             Divorced      Prof-specialty    Not-in-family   \n",
       "16277              Widowed                   ?   Other-relative   \n",
       "16278   Married-civ-spouse      Prof-specialty          Husband   \n",
       "16279             Divorced        Adm-clerical        Own-child   \n",
       "16280   Married-civ-spouse     Exec-managerial          Husband   \n",
       "\n",
       "                      race      sex  capital-gain  capital-loss  \\\n",
       "0                    Black     Male             0             0   \n",
       "1                    White     Male             0             0   \n",
       "2                    White     Male             0             0   \n",
       "3                    Black     Male          7688             0   \n",
       "4                    White   Female             0             0   \n",
       "...                    ...      ...           ...           ...   \n",
       "16276                White   Female             0             0   \n",
       "16277                Black     Male             0             0   \n",
       "16278                White     Male             0             0   \n",
       "16279   Asian-Pac-Islander     Male          5455             0   \n",
       "16280                White     Male             0             0   \n",
       "\n",
       "       hours-per-week  native-country   income  \n",
       "0                  40   United-States   <=50K.  \n",
       "1                  50   United-States   <=50K.  \n",
       "2                  40   United-States    >50K.  \n",
       "3                  40   United-States    >50K.  \n",
       "4                  30   United-States   <=50K.  \n",
       "...               ...             ...      ...  \n",
       "16276              36   United-States   <=50K.  \n",
       "16277              40   United-States   <=50K.  \n",
       "16278              50   United-States   <=50K.  \n",
       "16279              40   United-States   <=50K.  \n",
       "16280              60   United-States    >50K.  \n",
       "\n",
       "[16281 rows x 15 columns]"
      ]
     },
     "execution_count": 7,
     "metadata": {},
     "output_type": "execute_result"
    }
   ],
   "source": [
    "file_path = util.gen_abspath(DIRECTORY, TEST_FILE)\n",
    "df = util.read_csv(file_path, sep=',', header=None)\n",
    "df.columns=COLS\n",
    "\n",
    "df"
   ]
  },
  {
   "cell_type": "code",
   "execution_count": 8,
   "id": "116e41c2-8ccc-4570-a213-867e20ebeea5",
   "metadata": {},
   "outputs": [
    {
     "data": {
      "application/vnd.jupyter.widget-view+json": {
       "model_id": "d6f098e47e3546b28dd6badd4c0b9268",
       "version_major": 2,
       "version_minor": 0
      },
      "text/plain": [
       "Pandas Apply:   0%|          | 0/16281 [00:00<?, ?it/s]"
      ]
     },
     "metadata": {},
     "output_type": "display_data"
    },
    {
     "data": {
      "application/vnd.jupyter.widget-view+json": {
       "model_id": "9731922941fb4de98111377863616a22",
       "version_major": 2,
       "version_minor": 0
      },
      "text/plain": [
       "Pandas Apply:   0%|          | 0/16281 [00:00<?, ?it/s]"
      ]
     },
     "metadata": {},
     "output_type": "display_data"
    },
    {
     "data": {
      "application/vnd.jupyter.widget-view+json": {
       "model_id": "1acd641210be4c95baf88f76a38e19c4",
       "version_major": 2,
       "version_minor": 0
      },
      "text/plain": [
       "Pandas Apply:   0%|          | 0/16281 [00:00<?, ?it/s]"
      ]
     },
     "metadata": {},
     "output_type": "display_data"
    },
    {
     "data": {
      "application/vnd.jupyter.widget-view+json": {
       "model_id": "7d5d0b71165c445a91b826ec9847e2a2",
       "version_major": 2,
       "version_minor": 0
      },
      "text/plain": [
       "Pandas Apply:   0%|          | 0/16281 [00:00<?, ?it/s]"
      ]
     },
     "metadata": {},
     "output_type": "display_data"
    },
    {
     "data": {
      "application/vnd.jupyter.widget-view+json": {
       "model_id": "fa7b6192911c471493259171064fc85d",
       "version_major": 2,
       "version_minor": 0
      },
      "text/plain": [
       "Pandas Apply:   0%|          | 0/16281 [00:00<?, ?it/s]"
      ]
     },
     "metadata": {},
     "output_type": "display_data"
    },
    {
     "data": {
      "application/vnd.jupyter.widget-view+json": {
       "model_id": "d98a055c1cd947a5a9d7a29131e1768d",
       "version_major": 2,
       "version_minor": 0
      },
      "text/plain": [
       "Pandas Apply:   0%|          | 0/16281 [00:00<?, ?it/s]"
      ]
     },
     "metadata": {},
     "output_type": "display_data"
    },
    {
     "data": {
      "application/vnd.jupyter.widget-view+json": {
       "model_id": "3a4642fbfc994c4b936075c39eac06ee",
       "version_major": 2,
       "version_minor": 0
      },
      "text/plain": [
       "Pandas Apply:   0%|          | 0/16281 [00:00<?, ?it/s]"
      ]
     },
     "metadata": {},
     "output_type": "display_data"
    },
    {
     "data": {
      "application/vnd.jupyter.widget-view+json": {
       "model_id": "fede8070acdc41fe8b945df9ddbcc3c8",
       "version_major": 2,
       "version_minor": 0
      },
      "text/plain": [
       "Pandas Apply:   0%|          | 0/16281 [00:00<?, ?it/s]"
      ]
     },
     "metadata": {},
     "output_type": "display_data"
    }
   ],
   "source": [
    "# 转成特征与标号\n",
    "X = df.drop(LABEL_COL, axis=1)  # features\n",
    "y = df[LABEL_COL].apply(lambda e: 0 if e == ' <=50K.' else 1)  # label\n",
    "\n",
    "# 处理类别特征\n",
    "kkv_path = util.gen_abspath(DIRECTORY, KKV_FILE)\n",
    "X, _ = util.load_label_encoder(X, kkv_path)"
   ]
  },
  {
   "cell_type": "markdown",
   "id": "949ce2c2-fd50-4754-9b37-02ee9068c1e0",
   "metadata": {},
   "source": [
    "## 二、使用 Treelite 加速推理"
   ]
  },
  {
   "cell_type": "code",
   "execution_count": 9,
   "id": "2812f130-12bb-4f29-8733-10ac8b1ab2e6",
   "metadata": {},
   "outputs": [],
   "source": [
    "# 数据准备\n",
    "X_arr = np.array(X)\n",
    "X_arr_float64 = np.array(X.astype('float64'))"
   ]
  },
  {
   "cell_type": "markdown",
   "id": "600cf1d8-b9ad-4c0c-bcfa-ee616a48ae28",
   "metadata": {},
   "source": [
    "### 2.1 推理速度\n",
    "\n",
    "编写一个装饰器，用于计算函数运行时间"
   ]
  },
  {
   "cell_type": "code",
   "execution_count": 10,
   "id": "f49c173b-1ad3-4510-91b0-d93369b5cbc8",
   "metadata": {},
   "outputs": [],
   "source": [
    "tdict = dict()\n",
    "\n",
    "def timer(func):\n",
    "    \"\"\"用于统计运行时间的装饰器\"\"\"\n",
    "    def f(*args, **kwargs):\n",
    "        before = time.time()\n",
    "        rv = func(*args, **kwargs)\n",
    "        after = time.time()\n",
    "        print(f'time taken: {after - before:.5f}', )\n",
    "        tdict[func.__name__] = after - before\n",
    "        return rv\n",
    "    return f"
   ]
  },
  {
   "cell_type": "code",
   "execution_count": 11,
   "id": "54a2a936-2386-4121-a1ad-0e425914aec4",
   "metadata": {},
   "outputs": [
    {
     "name": "stdout",
     "output_type": "stream",
     "text": [
      "time taken: 0.07800\n"
     ]
    }
   ],
   "source": [
    "@timer\n",
    "def lightgbm_inference(X):\n",
    "    \"\"\"LightGBM 推理\"\"\"\n",
    "    return bst.predict(X)\n",
    "\n",
    "r1 = lightgbm_inference(X)"
   ]
  },
  {
   "cell_type": "code",
   "execution_count": 12,
   "id": "3a74b4ba-5834-46bf-8b4b-4af648094771",
   "metadata": {},
   "outputs": [
    {
     "name": "stdout",
     "output_type": "stream",
     "text": [
      "time taken: 0.39537\n"
     ]
    }
   ],
   "source": [
    "@timer\n",
    "def treelite_inference(X_arr):\n",
    "    \"\"\"Treelite 推理\"\"\"\n",
    "    return treelite.gtil.predict(model, data=X_arr).flatten()\n",
    "\n",
    "r2 = treelite_inference(X_arr)"
   ]
  },
  {
   "cell_type": "code",
   "execution_count": 13,
   "id": "3b7302ed-a36f-4448-9e9d-aaf5c1d2de92",
   "metadata": {},
   "outputs": [
    {
     "name": "stdout",
     "output_type": "stream",
     "text": [
      "time taken: 0.03864\n"
     ]
    }
   ],
   "source": [
    "@timer\n",
    "def treelite_inference_so(X_arr_float64):\n",
    "    \"\"\"Treelite 编译后推理\"\"\"\n",
    "    dmat = tl2cgen.DMatrix(X_arr_float64)\n",
    "    return predictor.predict(dmat).flatten()\n",
    "\n",
    "r3 = treelite_inference_so(X_arr_float64)"
   ]
  },
  {
   "cell_type": "code",
   "execution_count": 14,
   "id": "7080c847-4be4-4f88-829a-18b86218d95a",
   "metadata": {},
   "outputs": [
    {
     "name": "stdout",
     "output_type": "stream",
     "text": [
      "结论：\n",
      "- Treelite 编译前推理耗时是 LightGBM 推理耗时的：5.07 倍\n",
      "- Treelite 编译后推理耗时是 LightGBM 推理耗时的：0.50 倍\n"
     ]
    }
   ],
   "source": [
    "print(\"结论：\")\n",
    "print(f\"- Treelite 编译前推理耗时是 LightGBM 推理耗时的：{tdict['treelite_inference'] / tdict['lightgbm_inference']:.2f} 倍\")\n",
    "print(f\"- Treelite 编译后推理耗时是 LightGBM 推理耗时的：{tdict['treelite_inference_so'] / tdict['lightgbm_inference']:.2f} 倍\")"
   ]
  },
  {
   "cell_type": "markdown",
   "id": "58895686-64d9-418f-aad6-866eab76cee7",
   "metadata": {},
   "source": [
    "### 2.2 推理准度\n",
    "\n",
    "检查三次输出的结果是否相同"
   ]
  },
  {
   "cell_type": "code",
   "execution_count": 15,
   "id": "8e351352-5db8-4924-bb68-c1b885653a1d",
   "metadata": {},
   "outputs": [
    {
     "data": {
      "text/plain": [
       "array([0.00624845, 0.39836881, 0.65383252, ..., 0.92038485, 0.38058301,\n",
       "       0.91099488])"
      ]
     },
     "execution_count": 15,
     "metadata": {},
     "output_type": "execute_result"
    }
   ],
   "source": [
    "r1"
   ]
  },
  {
   "cell_type": "code",
   "execution_count": 16,
   "id": "c284ab53-5d93-4117-9c25-9daf461629cf",
   "metadata": {},
   "outputs": [
    {
     "data": {
      "text/plain": [
       "array([0.00624845, 0.39836881, 0.65383252, ..., 0.92038485, 0.38058301,\n",
       "       0.91099488])"
      ]
     },
     "execution_count": 16,
     "metadata": {},
     "output_type": "execute_result"
    }
   ],
   "source": [
    "r2"
   ]
  },
  {
   "cell_type": "code",
   "execution_count": 17,
   "id": "911a7bf1-6cf4-403d-8f25-e5eef233156f",
   "metadata": {},
   "outputs": [
    {
     "data": {
      "text/plain": [
       "array([0.00624845, 0.39836881, 0.65383252, ..., 0.92038485, 0.38058301,\n",
       "       0.91099488])"
      ]
     },
     "execution_count": 17,
     "metadata": {},
     "output_type": "execute_result"
    }
   ],
   "source": [
    "r3"
   ]
  },
  {
   "cell_type": "code",
   "execution_count": 18,
   "id": "339c1c2c-6fd4-4342-8ba5-5fc9efbd9310",
   "metadata": {},
   "outputs": [
    {
     "name": "stdout",
     "output_type": "stream",
     "text": [
      "r1 = r2?\n"
     ]
    },
    {
     "data": {
      "text/plain": [
       "True"
      ]
     },
     "execution_count": 18,
     "metadata": {},
     "output_type": "execute_result"
    }
   ],
   "source": [
    "print('r1 = r2?')\n",
    "all(r1 == r2)"
   ]
  },
  {
   "cell_type": "code",
   "execution_count": 19,
   "id": "7464c6ae-696b-49cb-b41e-6e9a4cb74bd1",
   "metadata": {},
   "outputs": [
    {
     "name": "stdout",
     "output_type": "stream",
     "text": [
      "r1 = r3?\n"
     ]
    },
    {
     "data": {
      "text/plain": [
       "True"
      ]
     },
     "execution_count": 19,
     "metadata": {},
     "output_type": "execute_result"
    }
   ],
   "source": [
    "print('r1 = r3?')\n",
    "all(r1 == r3)"
   ]
  },
  {
   "cell_type": "markdown",
   "id": "df29acc8-606c-4c43-aa93-77e0f0e1dd9d",
   "metadata": {},
   "source": [
    "### 2.3 通用函数\n",
    "\n",
    "为方便复用代码，编写两个通用函数，分别用于：\n",
    "\n",
    " - 生成 .so 文件\n",
    " - 用 .so 文件推理"
   ]
  },
  {
   "cell_type": "code",
   "execution_count": 20,
   "id": "c1d95a03-faa7-48eb-b5b9-d62a959aa898",
   "metadata": {},
   "outputs": [],
   "source": [
    "def gen_so_file(lgb_model_path, so_model_path):\n",
    "    \"\"\"生成 .so 文件，该文件可用于模型推理\n",
    "    \n",
    "    args:\n",
    "    lgb_model_path : str\n",
    "        LightGBM 模型 .txt 文件的路径\n",
    "    so_model_path : str\n",
    "        生成的 .so 文件的保存路径\n",
    "    \"\"\"\n",
    "    model = treelite.frontend.load_lightgbm_model(lgb_model_path)\n",
    "    tl2cgen.export_lib(model, toolchain=\"gcc\", libpath=so_model_path)\n",
    "\n",
    "def predict(X, so_model_path):\n",
    "    \"\"\"用 .so 文件进行模型推理\n",
    "\n",
    "    args:\n",
    "    X : np.array (2D)\n",
    "        模型特征\n",
    "    so_model_path : str\n",
    "        .so 文件路径\n",
    "\n",
    "    return:\n",
    "    np.array (1D)\n",
    "    \"\"\"\n",
    "    predictor = tl2cgen.Predictor(so_model_path)\n",
    "\n",
    "    X_arr_float64 = np.array(X.astype('float64'))\n",
    "    dmat = tl2cgen.DMatrix(X_arr_float64)\n",
    "    return predictor.predict(dmat).flatten()"
   ]
  },
  {
   "cell_type": "code",
   "execution_count": null,
   "id": "bc786d48-d7e3-475d-9b48-f0624a12cf3a",
   "metadata": {},
   "outputs": [],
   "source": []
  }
 ],
 "metadata": {
  "kernelspec": {
   "display_name": "Python 3 (ipykernel)",
   "language": "python",
   "name": "python3"
  },
  "language_info": {
   "codemirror_mode": {
    "name": "ipython",
    "version": 3
   },
   "file_extension": ".py",
   "mimetype": "text/x-python",
   "name": "python",
   "nbconvert_exporter": "python",
   "pygments_lexer": "ipython3",
   "version": "3.10.14"
  }
 },
 "nbformat": 4,
 "nbformat_minor": 5
}
