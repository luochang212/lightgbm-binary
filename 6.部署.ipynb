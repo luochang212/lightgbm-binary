{
 "cells": [
  {
   "cell_type": "markdown",
   "id": "0e744b14-324b-4a93-a830-db61952ca62e",
   "metadata": {},
   "source": [
    "# 6. 部署\n",
    "\n",
    "在前面几节中，我们抽象出了一些公有代码，放在 `util.py` 中。我们复用这些代码，快速训练一个 LightGBM 模型"
   ]
  },
  {
   "cell_type": "code",
   "execution_count": 1,
   "id": "73cce536-d752-462d-8fb3-f577a9a9bcef",
   "metadata": {
    "execution": {
     "iopub.execute_input": "2024-07-10T12:34:05.544698Z",
     "iopub.status.busy": "2024-07-10T12:34:05.544302Z",
     "iopub.status.idle": "2024-07-10T12:34:05.551304Z",
     "shell.execute_reply": "2024-07-10T12:34:05.550300Z",
     "shell.execute_reply.started": "2024-07-10T12:34:05.544669Z"
    }
   },
   "outputs": [],
   "source": [
    "DIRECTORY = './data'\n",
    "TRAIN_FILE = 'adult/adult.data'\n",
    "TEST_FILE = 'adult/adult.test'\n",
    "MODEL_FILE = 'model_best.txt'\n",
    "KKV_FILE = 'label_encoder_deploy.json'\n",
    "COLS = ['age', 'workclass', 'fnlwgt', 'education', 'education-num', 'marital-status',\n",
    "        'occupation', 'relationship', 'race', 'sex', 'capital-gain', 'capital-loss',\n",
    "        'hours-per-week', 'native-country', 'income']\n",
    "LABEL_COL = 'income'"
   ]
  },
  {
   "cell_type": "code",
   "execution_count": 2,
   "id": "ae9c823c-f736-4bcb-9a56-53b05872f06c",
   "metadata": {
    "execution": {
     "iopub.execute_input": "2024-07-10T12:34:05.553383Z",
     "iopub.status.busy": "2024-07-10T12:34:05.552913Z",
     "iopub.status.idle": "2024-07-10T12:34:07.505655Z",
     "shell.execute_reply": "2024-07-10T12:34:07.504844Z",
     "shell.execute_reply.started": "2024-07-10T12:34:05.553356Z"
    }
   },
   "outputs": [],
   "source": [
    "# coding: utf-8\n",
    "import numpy as np\n",
    "import pandas as pd\n",
    "import sklearn.metrics\n",
    "import sklearn.model_selection\n",
    "import sklearn.preprocessing\n",
    "import matplotlib.pyplot as plt\n",
    "import seaborn as sns\n",
    "import lightgbm as lgb\n",
    "from swifter import swifter\n",
    "\n",
    "import util"
   ]
  },
  {
   "cell_type": "code",
   "execution_count": 3,
   "id": "95045cf6-a331-4e40-b2b9-01de441d7a08",
   "metadata": {
    "execution": {
     "iopub.execute_input": "2024-07-10T12:34:07.510241Z",
     "iopub.status.busy": "2024-07-10T12:34:07.509697Z",
     "iopub.status.idle": "2024-07-10T12:34:07.515529Z",
     "shell.execute_reply": "2024-07-10T12:34:07.514622Z",
     "shell.execute_reply.started": "2024-07-10T12:34:07.510203Z"
    }
   },
   "outputs": [],
   "source": [
    "# 明确指定数据类型是好文明\n",
    "DTYPE = {\n",
    "    'age': np.int64,\n",
    "    'workclass': np.dtype('object'),\n",
    "    'fnlwgt': np.int64,\n",
    "    'education': np.dtype('object'),\n",
    "    'education-num': np.int64,\n",
    "    'marital-status': np.dtype('object'),\n",
    "    'occupation': np.dtype('object'),\n",
    "    'relationship': np.dtype('object'),\n",
    "    'race': np.dtype('object'),\n",
    "    'sex': np.dtype('object'),\n",
    "    'capital-gain': np.int64,\n",
    "    'capital-loss': np.int64,\n",
    "    'hours-per-week': np.int64,\n",
    "    'native-country': np.dtype('object'),\n",
    "    'income': np.dtype('object')\n",
    "}"
   ]
  },
  {
   "cell_type": "markdown",
   "id": "ec2df4be-937f-42ca-a2d1-af5dbd6a52ea",
   "metadata": {},
   "source": [
    "## 一、模型训练\n",
    "\n",
    "我们用前面学到的技巧，训练一版模型"
   ]
  },
  {
   "cell_type": "code",
   "execution_count": 4,
   "id": "2bc1c978-9b5a-4675-a770-da58b81867b5",
   "metadata": {
    "execution": {
     "iopub.execute_input": "2024-07-10T12:34:07.516901Z",
     "iopub.status.busy": "2024-07-10T12:34:07.516476Z",
     "iopub.status.idle": "2024-07-10T12:34:08.106563Z",
     "shell.execute_reply": "2024-07-10T12:34:08.105332Z",
     "shell.execute_reply.started": "2024-07-10T12:34:07.516878Z"
    }
   },
   "outputs": [
    {
     "data": {
      "application/vnd.jupyter.widget-view+json": {
       "model_id": "0cbd8b9c252845738b04fe373dca229a",
       "version_major": 2,
       "version_minor": 0
      },
      "text/plain": [
       "Pandas Apply:   0%|          | 0/32561 [00:00<?, ?it/s]"
      ]
     },
     "metadata": {},
     "output_type": "display_data"
    },
    {
     "data": {
      "application/vnd.jupyter.widget-view+json": {
       "model_id": "b05b65029e2145b8bafe0ac434968cff",
       "version_major": 2,
       "version_minor": 0
      },
      "text/plain": [
       "Pandas Apply:   0%|          | 0/32561 [00:00<?, ?it/s]"
      ]
     },
     "metadata": {},
     "output_type": "display_data"
    },
    {
     "data": {
      "application/vnd.jupyter.widget-view+json": {
       "model_id": "69e62383a76b47b4a6ed4408d783d531",
       "version_major": 2,
       "version_minor": 0
      },
      "text/plain": [
       "Pandas Apply:   0%|          | 0/32561 [00:00<?, ?it/s]"
      ]
     },
     "metadata": {},
     "output_type": "display_data"
    },
    {
     "data": {
      "application/vnd.jupyter.widget-view+json": {
       "model_id": "ce03855ac0c74ebba095c9584d69d98b",
       "version_major": 2,
       "version_minor": 0
      },
      "text/plain": [
       "Pandas Apply:   0%|          | 0/32561 [00:00<?, ?it/s]"
      ]
     },
     "metadata": {},
     "output_type": "display_data"
    },
    {
     "data": {
      "application/vnd.jupyter.widget-view+json": {
       "model_id": "8072a984495343a98f96a6ca50383a72",
       "version_major": 2,
       "version_minor": 0
      },
      "text/plain": [
       "Pandas Apply:   0%|          | 0/32561 [00:00<?, ?it/s]"
      ]
     },
     "metadata": {},
     "output_type": "display_data"
    },
    {
     "data": {
      "application/vnd.jupyter.widget-view+json": {
       "model_id": "1587f3cd05f34e619558184632ade4a9",
       "version_major": 2,
       "version_minor": 0
      },
      "text/plain": [
       "Pandas Apply:   0%|          | 0/32561 [00:00<?, ?it/s]"
      ]
     },
     "metadata": {},
     "output_type": "display_data"
    },
    {
     "data": {
      "application/vnd.jupyter.widget-view+json": {
       "model_id": "a8e1bcb0cbfb418a9ee1a563443208f2",
       "version_major": 2,
       "version_minor": 0
      },
      "text/plain": [
       "Pandas Apply:   0%|          | 0/32561 [00:00<?, ?it/s]"
      ]
     },
     "metadata": {},
     "output_type": "display_data"
    },
    {
     "data": {
      "application/vnd.jupyter.widget-view+json": {
       "model_id": "d63bdad2a1534427a1072ea240d16759",
       "version_major": 2,
       "version_minor": 0
      },
      "text/plain": [
       "Pandas Apply:   0%|          | 0/32561 [00:00<?, ?it/s]"
      ]
     },
     "metadata": {},
     "output_type": "display_data"
    }
   ],
   "source": [
    "# 读入 CSV 文件\n",
    "csv_file = util.gen_abspath(DIRECTORY, TRAIN_FILE)\n",
    "df = util.read_csv(csv_file, sep=',', header=None, dtype=DTYPE)\n",
    "df.columns=COLS\n",
    "\n",
    "# 特征与标号\n",
    "X = df.drop(LABEL_COL, axis=1)  # features\n",
    "y = df[LABEL_COL].apply(lambda e: 0 if e == ' <=50K' else 1)  # label\n",
    "\n",
    "# 处理类别特征\n",
    "X, kkv, cat_feats = util.label_encoder_trim(X)\n",
    "\n",
    "# 保存 encoder 的映射关系\n",
    "kkv_path = util.gen_abspath(DIRECTORY, KKV_FILE)\n",
    "util.save_label_encoder(kkv, kkv_path)"
   ]
  },
  {
   "cell_type": "code",
   "execution_count": 5,
   "id": "b8205759-2bca-4595-8051-b9ac77dfb63f",
   "metadata": {
    "execution": {
     "iopub.execute_input": "2024-07-10T12:34:08.109060Z",
     "iopub.status.busy": "2024-07-10T12:34:08.108678Z",
     "iopub.status.idle": "2024-07-10T12:34:08.132566Z",
     "shell.execute_reply": "2024-07-10T12:34:08.131956Z",
     "shell.execute_reply.started": "2024-07-10T12:34:08.109033Z"
    }
   },
   "outputs": [
    {
     "name": "stdout",
     "output_type": "stream",
     "text": [
      "Warning: Sample imbalance, set scale_pos_weight=3.154\n"
     ]
    }
   ],
   "source": [
    "# 分割数据集\n",
    "X_train, X_test, y_train, y_test = sklearn.model_selection.train_test_split(X, y, test_size=0.2, random_state=42)\n",
    "lgb_train = lgb.Dataset(X_train,\n",
    "                        y_train,\n",
    "                        categorical_feature=cat_feats, \n",
    "                        free_raw_data=True)\n",
    "lgb_eval = lgb.Dataset(X_test,\n",
    "                    y_test,\n",
    "                    reference=lgb_train,\n",
    "                    categorical_feature=cat_feats, \n",
    "                    free_raw_data=True)\n",
    "\n",
    "# 配置训练参数：使用在 Adult 数据集上优化过的超参数\n",
    "best_params = {\n",
    "    \"objective\": \"binary\",\n",
    "    \"boosting_type\": \"gbdt\",\n",
    "    \"metric\": 'auc',\n",
    "    \"num_leaves\": 34,\n",
    "    \"learning_rate\": 0.08,\n",
    "    \"feature_fraction\": 0.4,\n",
    "    \"bagging_fraction\": 0.9,\n",
    "    \"bagging_freq\": 5,\n",
    "    \"subsample\": 0.9,\n",
    "    \"verbose\": 1\n",
    "}\n",
    "\n",
    "# 处理样本数据倾斜\n",
    "positive_ratio = sum(y_train) / len(y_train)\n",
    "tolerance = 0.1\n",
    "if positive_ratio > 0.5 + tolerance or positive_ratio < 0.5 - tolerance:\n",
    "    # if dataset is highly imbalanced\n",
    "    weight = util.gen_scale_pos_weight(y_train)\n",
    "    best_params[\"scale_pos_weight\"] = weight\n",
    "    print(f\"Warning: Sample imbalance, set scale_pos_weight={weight:.3f}\")"
   ]
  },
  {
   "cell_type": "code",
   "execution_count": 6,
   "id": "f5fbda12-3826-4722-b94c-257c29513f34",
   "metadata": {
    "execution": {
     "iopub.execute_input": "2024-07-10T12:34:08.133483Z",
     "iopub.status.busy": "2024-07-10T12:34:08.133287Z",
     "iopub.status.idle": "2024-07-10T12:34:08.450011Z",
     "shell.execute_reply": "2024-07-10T12:34:08.448996Z",
     "shell.execute_reply.started": "2024-07-10T12:34:08.133464Z"
    }
   },
   "outputs": [
    {
     "name": "stdout",
     "output_type": "stream",
     "text": [
      "[LightGBM] [Warning] bagging_fraction is set=0.9, subsample=0.9 will be ignored. Current value: bagging_fraction=0.9\n",
      "[LightGBM] [Warning] bagging_fraction is set=0.9, subsample=0.9 will be ignored. Current value: bagging_fraction=0.9\n",
      "[LightGBM] [Info] Number of positive: 6270, number of negative: 19778\n",
      "[LightGBM] [Info] Auto-choosing row-wise multi-threading, the overhead of testing was 0.000542 seconds.\n",
      "You can set `force_row_wise=true` to remove the overhead.\n",
      "And if memory is not enough, you can set `force_col_wise=true`.\n",
      "[LightGBM] [Info] Total Bins 695\n",
      "[LightGBM] [Info] Number of data points in the train set: 26048, number of used features: 14\n",
      "[LightGBM] [Warning] bagging_fraction is set=0.9, subsample=0.9 will be ignored. Current value: bagging_fraction=0.9\n",
      "[LightGBM] [Info] [binary:BoostFromScore]: pavg=0.240709 -> initscore=-1.148794\n",
      "[LightGBM] [Info] Start training from score -1.148794\n",
      "Training until validation scores don't improve for 30 rounds\n",
      "Learning rate ==> 0.090 (-0.0100)\n",
      "[10]\tvalid_0's auc: 0.913107\n",
      "Learning rate ==> 0.081 (-0.0090)\n",
      "[20]\tvalid_0's auc: 0.922718\n",
      "Learning rate ==> 0.073 (-0.0081)\n",
      "[30]\tvalid_0's auc: 0.926202\n",
      "Learning rate ==> 0.066 (-0.0073)\n",
      "[40]\tvalid_0's auc: 0.928409\n",
      "Learning rate ==> 0.059 (-0.0066)\n",
      "[50]\tvalid_0's auc: 0.929186\n",
      "Learning rate ==> 0.053 (-0.0059)\n",
      "[60]\tvalid_0's auc: 0.93045\n",
      "Learning rate ==> 0.048 (-0.0053)\n",
      "[70]\tvalid_0's auc: 0.931091\n",
      "Learning rate ==> 0.043 (-0.0048)\n",
      "[80]\tvalid_0's auc: 0.931493\n",
      "Learning rate ==> 0.039 (-0.0043)\n",
      "[90]\tvalid_0's auc: 0.931704\n",
      "Learning rate ==> 0.035 (-0.0039)\n",
      "[100]\tvalid_0's auc: 0.931989\n",
      "Learning rate ==> 0.031 (-0.0035)\n",
      "[110]\tvalid_0's auc: 0.931946\n",
      "Learning rate ==> 0.028 (-0.0031)\n",
      "[120]\tvalid_0's auc: 0.931712\n",
      "Learning rate ==> 0.025 (-0.0028)\n",
      "[130]\tvalid_0's auc: 0.931818\n",
      "Early stopping, best iteration is:\n",
      "[100]\tvalid_0's auc: 0.931989\n"
     ]
    }
   ],
   "source": [
    "# 训练\n",
    "gbm = lgb.train(best_params,\n",
    "                lgb_train,\n",
    "                num_boost_round=300,\n",
    "                valid_sets=lgb_eval,\n",
    "                callbacks=[lgb.early_stopping(stopping_rounds=30),\n",
    "                           lgb.log_evaluation(10),\n",
    "                           util.AdaptiveLearningRate(learning_rate=0.1, decay_rate=0.9, patience=10).callback],\n",
    "                categorical_feature=cat_feats\n",
    ")"
   ]
  },
  {
   "cell_type": "code",
   "execution_count": 7,
   "id": "4627a77b-ef6b-4c7a-abb6-20f40ecf4fb1",
   "metadata": {
    "execution": {
     "iopub.execute_input": "2024-07-10T12:34:08.451639Z",
     "iopub.status.busy": "2024-07-10T12:34:08.451299Z",
     "iopub.status.idle": "2024-07-10T12:34:10.442276Z",
     "shell.execute_reply": "2024-07-10T12:34:10.441361Z",
     "shell.execute_reply.started": "2024-07-10T12:34:08.451608Z"
    }
   },
   "outputs": [
    {
     "name": "stdout",
     "output_type": "stream",
     "text": [
      "threshold: 0.70658\n",
      "accuracy: 0.88070\n",
      "precision: 0.76361\n",
      "recall: 0.73202\n",
      "f1_score: 0.74748\n",
      "auc: 0.93199\n",
      "cross-entropy loss: 0.32999\n",
      "True Positive (TP): 1150\n",
      "True Negative (TN): 4586\n",
      "False Positive (FP): 356\n",
      "False Negative (FN): 421\n",
      "confusion matrix:\n",
      "[[4586  356]\n",
      " [ 421 1150]]\n"
     ]
    }
   ],
   "source": [
    "# 评估模型\n",
    "y_pred = gbm.predict(X_test)\n",
    "y_label, threshold = util.eval_binary(y_true=y_test, y_pred=y_pred, ret=True)"
   ]
  },
  {
   "cell_type": "code",
   "execution_count": 8,
   "id": "e4df71ff-747b-4a60-8e01-591d9dfc2807",
   "metadata": {
    "execution": {
     "iopub.execute_input": "2024-07-10T12:34:10.444659Z",
     "iopub.status.busy": "2024-07-10T12:34:10.444023Z",
     "iopub.status.idle": "2024-07-10T12:34:10.454085Z",
     "shell.execute_reply": "2024-07-10T12:34:10.453084Z",
     "shell.execute_reply.started": "2024-07-10T12:34:10.444597Z"
    }
   },
   "outputs": [
    {
     "data": {
      "text/plain": [
       "<lightgbm.basic.Booster at 0x7fb504adf8e0>"
      ]
     },
     "execution_count": 8,
     "metadata": {},
     "output_type": "execute_result"
    }
   ],
   "source": [
    "# 保存模型\n",
    "model_path = util.gen_abspath(DIRECTORY, MODEL_FILE)\n",
    "gbm.save_model(model_path)"
   ]
  },
  {
   "cell_type": "markdown",
   "id": "2886a6b9-8424-4155-8c1e-b8f691b3d449",
   "metadata": {},
   "source": [
    "## 二、模型部署"
   ]
  },
  {
   "cell_type": "code",
   "execution_count": 9,
   "id": "205efd84-5126-442c-8cea-4bd75e0ed45e",
   "metadata": {
    "execution": {
     "iopub.execute_input": "2024-07-10T12:34:10.456131Z",
     "iopub.status.busy": "2024-07-10T12:34:10.455506Z",
     "iopub.status.idle": "2024-07-10T12:34:10.472689Z",
     "shell.execute_reply": "2024-07-10T12:34:10.471820Z",
     "shell.execute_reply.started": "2024-07-10T12:34:10.456096Z"
    }
   },
   "outputs": [],
   "source": [
    "# 从模型文件加载模型\n",
    "bst = lgb.Booster(model_file=model_path)"
   ]
  },
  {
   "cell_type": "markdown",
   "id": "8e70575b-d040-40c2-a76a-892c68880586",
   "metadata": {},
   "source": [
    "### 2.1 离线部署\n",
    "\n",
    "如果这时候有一行数据进来，怎么对它进行推理呢？"
   ]
  },
  {
   "cell_type": "code",
   "execution_count": 10,
   "id": "91800a12-7533-4e38-a5c3-c065f56366c9",
   "metadata": {
    "execution": {
     "iopub.execute_input": "2024-07-10T12:34:10.475481Z",
     "iopub.status.busy": "2024-07-10T12:34:10.474954Z",
     "iopub.status.idle": "2024-07-10T12:34:10.552399Z",
     "shell.execute_reply": "2024-07-10T12:34:10.551478Z",
     "shell.execute_reply.started": "2024-07-10T12:34:10.475447Z"
    }
   },
   "outputs": [
    {
     "data": {
      "text/html": [
       "<div>\n",
       "<style scoped>\n",
       "    .dataframe tbody tr th:only-of-type {\n",
       "        vertical-align: middle;\n",
       "    }\n",
       "\n",
       "    .dataframe tbody tr th {\n",
       "        vertical-align: top;\n",
       "    }\n",
       "\n",
       "    .dataframe thead th {\n",
       "        text-align: right;\n",
       "    }\n",
       "</style>\n",
       "<table border=\"1\" class=\"dataframe\">\n",
       "  <thead>\n",
       "    <tr style=\"text-align: right;\">\n",
       "      <th></th>\n",
       "      <th>age</th>\n",
       "      <th>workclass</th>\n",
       "      <th>fnlwgt</th>\n",
       "      <th>education</th>\n",
       "      <th>education-num</th>\n",
       "      <th>marital-status</th>\n",
       "      <th>occupation</th>\n",
       "      <th>relationship</th>\n",
       "      <th>race</th>\n",
       "      <th>sex</th>\n",
       "      <th>capital-gain</th>\n",
       "      <th>capital-loss</th>\n",
       "      <th>hours-per-week</th>\n",
       "      <th>native-country</th>\n",
       "      <th>income</th>\n",
       "    </tr>\n",
       "  </thead>\n",
       "  <tbody>\n",
       "    <tr>\n",
       "      <th>3</th>\n",
       "      <td>44</td>\n",
       "      <td>Private</td>\n",
       "      <td>160323</td>\n",
       "      <td>Some-college</td>\n",
       "      <td>10</td>\n",
       "      <td>Married-civ-spouse</td>\n",
       "      <td>Machine-op-inspct</td>\n",
       "      <td>Husband</td>\n",
       "      <td>Black</td>\n",
       "      <td>Male</td>\n",
       "      <td>7688</td>\n",
       "      <td>0</td>\n",
       "      <td>40</td>\n",
       "      <td>United-States</td>\n",
       "      <td>&gt;50K.</td>\n",
       "    </tr>\n",
       "  </tbody>\n",
       "</table>\n",
       "</div>"
      ],
      "text/plain": [
       "   age workclass  fnlwgt      education  education-num       marital-status  \\\n",
       "3   44   Private  160323   Some-college             10   Married-civ-spouse   \n",
       "\n",
       "           occupation relationship    race    sex  capital-gain  capital-loss  \\\n",
       "3   Machine-op-inspct      Husband   Black   Male          7688             0   \n",
       "\n",
       "   hours-per-week  native-country  income  \n",
       "3              40   United-States   >50K.  "
      ]
     },
     "execution_count": 10,
     "metadata": {},
     "output_type": "execute_result"
    }
   ],
   "source": [
    "# 假设这行数据长这样\n",
    "csv_file = util.gen_abspath(DIRECTORY, TEST_FILE)\n",
    "df_test = util.read_csv(csv_file, sep=',', header=None)\n",
    "df_test.columns=COLS\n",
    "\n",
    "df_one = df_test.iloc[3:4,:]\n",
    "df_one"
   ]
  },
  {
   "cell_type": "markdown",
   "id": "dde5eff1-7df5-402c-9660-0942a43c45ec",
   "metadata": {},
   "source": [
    "首先对它进行预处理"
   ]
  },
  {
   "cell_type": "code",
   "execution_count": 11,
   "id": "469b150b-682c-4677-9d04-6ebc191be1f2",
   "metadata": {
    "execution": {
     "iopub.execute_input": "2024-07-10T12:34:10.554140Z",
     "iopub.status.busy": "2024-07-10T12:34:10.553746Z",
     "iopub.status.idle": "2024-07-10T12:34:10.776109Z",
     "shell.execute_reply": "2024-07-10T12:34:10.775327Z",
     "shell.execute_reply.started": "2024-07-10T12:34:10.554110Z"
    }
   },
   "outputs": [
    {
     "data": {
      "application/vnd.jupyter.widget-view+json": {
       "model_id": "40215e0d816341b794e86e77e7e2ece1",
       "version_major": 2,
       "version_minor": 0
      },
      "text/plain": [
       "Pandas Apply:   0%|          | 0/1 [00:00<?, ?it/s]"
      ]
     },
     "metadata": {},
     "output_type": "display_data"
    },
    {
     "data": {
      "application/vnd.jupyter.widget-view+json": {
       "model_id": "b0eff61dceac4421ba759e60c6367030",
       "version_major": 2,
       "version_minor": 0
      },
      "text/plain": [
       "Pandas Apply:   0%|          | 0/1 [00:00<?, ?it/s]"
      ]
     },
     "metadata": {},
     "output_type": "display_data"
    },
    {
     "data": {
      "application/vnd.jupyter.widget-view+json": {
       "model_id": "265d9741a457402c9f187fc7422bd28c",
       "version_major": 2,
       "version_minor": 0
      },
      "text/plain": [
       "Pandas Apply:   0%|          | 0/1 [00:00<?, ?it/s]"
      ]
     },
     "metadata": {},
     "output_type": "display_data"
    },
    {
     "data": {
      "application/vnd.jupyter.widget-view+json": {
       "model_id": "d8f671777a6f441f9c1c7ef033dfed19",
       "version_major": 2,
       "version_minor": 0
      },
      "text/plain": [
       "Pandas Apply:   0%|          | 0/1 [00:00<?, ?it/s]"
      ]
     },
     "metadata": {},
     "output_type": "display_data"
    },
    {
     "data": {
      "application/vnd.jupyter.widget-view+json": {
       "model_id": "44aebf7f82b14e0089fea2c692b471cb",
       "version_major": 2,
       "version_minor": 0
      },
      "text/plain": [
       "Pandas Apply:   0%|          | 0/1 [00:00<?, ?it/s]"
      ]
     },
     "metadata": {},
     "output_type": "display_data"
    },
    {
     "data": {
      "application/vnd.jupyter.widget-view+json": {
       "model_id": "9291d081eb334538ab4cc3d14e1ca6b8",
       "version_major": 2,
       "version_minor": 0
      },
      "text/plain": [
       "Pandas Apply:   0%|          | 0/1 [00:00<?, ?it/s]"
      ]
     },
     "metadata": {},
     "output_type": "display_data"
    },
    {
     "data": {
      "application/vnd.jupyter.widget-view+json": {
       "model_id": "41cfa4eec5c54ab2902fca0696214a45",
       "version_major": 2,
       "version_minor": 0
      },
      "text/plain": [
       "Pandas Apply:   0%|          | 0/1 [00:00<?, ?it/s]"
      ]
     },
     "metadata": {},
     "output_type": "display_data"
    },
    {
     "data": {
      "application/vnd.jupyter.widget-view+json": {
       "model_id": "d9aedfce8cf44d6890185c1d5e61d5fe",
       "version_major": 2,
       "version_minor": 0
      },
      "text/plain": [
       "Pandas Apply:   0%|          | 0/1 [00:00<?, ?it/s]"
      ]
     },
     "metadata": {},
     "output_type": "display_data"
    }
   ],
   "source": [
    "# 转成特征与标号\n",
    "XX = df_one.drop(LABEL_COL, axis=1)  # features\n",
    "yy = df_one[LABEL_COL].apply(lambda e: 0 if e == ' <=50K.' else 1)  # label\n",
    "\n",
    "# 处理类别特征\n",
    "XX, _ = util.load_label_encoder(XX, kkv_path)"
   ]
  },
  {
   "cell_type": "code",
   "execution_count": 12,
   "id": "848127f8-f66c-4b0a-b201-626607ab335f",
   "metadata": {
    "execution": {
     "iopub.execute_input": "2024-07-10T12:34:10.783238Z",
     "iopub.status.busy": "2024-07-10T12:34:10.782818Z",
     "iopub.status.idle": "2024-07-10T12:34:10.794370Z",
     "shell.execute_reply": "2024-07-10T12:34:10.793548Z",
     "shell.execute_reply.started": "2024-07-10T12:34:10.783200Z"
    }
   },
   "outputs": [
    {
     "data": {
      "text/html": [
       "<div>\n",
       "<style scoped>\n",
       "    .dataframe tbody tr th:only-of-type {\n",
       "        vertical-align: middle;\n",
       "    }\n",
       "\n",
       "    .dataframe tbody tr th {\n",
       "        vertical-align: top;\n",
       "    }\n",
       "\n",
       "    .dataframe thead th {\n",
       "        text-align: right;\n",
       "    }\n",
       "</style>\n",
       "<table border=\"1\" class=\"dataframe\">\n",
       "  <thead>\n",
       "    <tr style=\"text-align: right;\">\n",
       "      <th></th>\n",
       "      <th>age</th>\n",
       "      <th>workclass</th>\n",
       "      <th>fnlwgt</th>\n",
       "      <th>education</th>\n",
       "      <th>education-num</th>\n",
       "      <th>marital-status</th>\n",
       "      <th>occupation</th>\n",
       "      <th>relationship</th>\n",
       "      <th>race</th>\n",
       "      <th>sex</th>\n",
       "      <th>capital-gain</th>\n",
       "      <th>capital-loss</th>\n",
       "      <th>hours-per-week</th>\n",
       "      <th>native-country</th>\n",
       "    </tr>\n",
       "  </thead>\n",
       "  <tbody>\n",
       "    <tr>\n",
       "      <th>3</th>\n",
       "      <td>44</td>\n",
       "      <td>4</td>\n",
       "      <td>160323</td>\n",
       "      <td>15</td>\n",
       "      <td>10</td>\n",
       "      <td>2</td>\n",
       "      <td>7</td>\n",
       "      <td>0</td>\n",
       "      <td>2</td>\n",
       "      <td>1</td>\n",
       "      <td>7688</td>\n",
       "      <td>0</td>\n",
       "      <td>40</td>\n",
       "      <td>39</td>\n",
       "    </tr>\n",
       "  </tbody>\n",
       "</table>\n",
       "</div>"
      ],
      "text/plain": [
       "   age  workclass  fnlwgt  education  education-num  marital-status  \\\n",
       "3   44          4  160323         15             10               2   \n",
       "\n",
       "   occupation  relationship  race  sex  capital-gain  capital-loss  \\\n",
       "3           7             0     2    1          7688             0   \n",
       "\n",
       "   hours-per-week  native-country  \n",
       "3              40              39  "
      ]
     },
     "execution_count": 12,
     "metadata": {},
     "output_type": "execute_result"
    }
   ],
   "source": [
    "XX"
   ]
  },
  {
   "cell_type": "markdown",
   "id": "1207eb2f-639c-4e27-bd3c-6074e2c2f69e",
   "metadata": {},
   "source": [
    "再进行预测"
   ]
  },
  {
   "cell_type": "code",
   "execution_count": 13,
   "id": "839de024-ec3e-4959-95ab-4ae89968aa14",
   "metadata": {
    "execution": {
     "iopub.execute_input": "2024-07-10T12:34:10.796200Z",
     "iopub.status.busy": "2024-07-10T12:34:10.795899Z",
     "iopub.status.idle": "2024-07-10T12:34:10.802318Z",
     "shell.execute_reply": "2024-07-10T12:34:10.801233Z",
     "shell.execute_reply.started": "2024-07-10T12:34:10.796178Z"
    }
   },
   "outputs": [
    {
     "name": "stdout",
     "output_type": "stream",
     "text": [
      "y_guess: 0.98814\n",
      "y_label: 1\n",
      "y_true: 1\n"
     ]
    }
   ],
   "source": [
    "# 输入可以是 DataFrame\n",
    "y_guess = bst.predict(XX)[0]\n",
    "y_label = 1 if y_guess > threshold else 0\n",
    "\n",
    "print(f'y_guess: {y_guess:.5f}')\n",
    "print(f'y_label: {y_label}')\n",
    "print(f'y_true: {list(yy)[0]}')"
   ]
  },
  {
   "cell_type": "code",
   "execution_count": 14,
   "id": "867a4a4e-c19b-47c7-9f3a-605656b17b9a",
   "metadata": {
    "execution": {
     "iopub.execute_input": "2024-07-10T12:34:10.805693Z",
     "iopub.status.busy": "2024-07-10T12:34:10.804702Z",
     "iopub.status.idle": "2024-07-10T12:34:10.813434Z",
     "shell.execute_reply": "2024-07-10T12:34:10.812269Z",
     "shell.execute_reply.started": "2024-07-10T12:34:10.805652Z"
    }
   },
   "outputs": [
    {
     "data": {
      "text/plain": [
       "array([0.98814364])"
      ]
     },
     "execution_count": 14,
     "metadata": {},
     "output_type": "execute_result"
    }
   ],
   "source": [
    "# 也可以是 Series\n",
    "arr = XX.iloc[0]\n",
    "y_guess = bst.predict([arr.astype(np.float32)])\n",
    "y_guess"
   ]
  },
  {
   "cell_type": "code",
   "execution_count": 15,
   "id": "3bc0b004-807a-495d-8251-95e5403921f0",
   "metadata": {
    "execution": {
     "iopub.execute_input": "2024-07-10T12:34:10.815641Z",
     "iopub.status.busy": "2024-07-10T12:34:10.815198Z",
     "iopub.status.idle": "2024-07-10T12:34:10.823297Z",
     "shell.execute_reply": "2024-07-10T12:34:10.822075Z",
     "shell.execute_reply.started": "2024-07-10T12:34:10.815607Z"
    }
   },
   "outputs": [
    {
     "data": {
      "text/plain": [
       "array([0.98814364])"
      ]
     },
     "execution_count": 15,
     "metadata": {},
     "output_type": "execute_result"
    }
   ],
   "source": [
    "# 也可以是 np.array\n",
    "np_arr = np.array([XX.iloc[0]])\n",
    "y_guess = bst.predict(np_arr)\n",
    "y_guess"
   ]
  },
  {
   "cell_type": "markdown",
   "id": "225e5412-d904-42ef-9a53-ec89dafa8c26",
   "metadata": {},
   "source": [
    "### 2.2 在线部署\n",
    "\n",
    "可以用 FastAPI 进行在线部署。注意现实中需要对字段进行校验，对有问题的数据设计特殊策略，比如 异常兜底、异常报警、空值填充 等\n",
    "\n",
    "关于 FastAPI 的更多信息，可以查阅我的博客 [FastAPI 初见](https://www.luochang.ink/posts/fastapi/) 及配套代码 [calendar-api](https://github.com/luochang212/calendar-api)"
   ]
  },
  {
   "cell_type": "code",
   "execution_count": null,
   "id": "860e1c54-d815-424d-afeb-3428e1f1c83c",
   "metadata": {},
   "outputs": [],
   "source": []
  }
 ],
 "metadata": {
  "kernelspec": {
   "display_name": "Python (py3.10)",
   "language": "python",
   "name": "python_3_10"
  },
  "language_info": {
   "codemirror_mode": {
    "name": "ipython",
    "version": 3
   },
   "file_extension": ".py",
   "mimetype": "text/x-python",
   "name": "python",
   "nbconvert_exporter": "python",
   "pygments_lexer": "ipython3",
   "version": "3.10.14"
  }
 },
 "nbformat": 4,
 "nbformat_minor": 5
}
