{
 "cells": [
  {
   "cell_type": "markdown",
   "id": "69d39959-f4c6-40a4-9d30-b2d898c3dc95",
   "metadata": {},
   "source": [
    "# 7. 模型可视化"
   ]
  },
  {
   "cell_type": "code",
   "execution_count": 1,
   "id": "5387ea59-817a-4810-a5ee-a3d66003ef68",
   "metadata": {},
   "outputs": [],
   "source": [
    "# !pip install graphviz\n",
    "# !conda install graphviz"
   ]
  },
  {
   "cell_type": "code",
   "execution_count": 2,
   "id": "6f51568f-bc27-40da-ade0-4931243f3162",
   "metadata": {},
   "outputs": [],
   "source": [
    "DIRECTORY='./data'\n",
    "MODEL_FILE='model_best.txt'\n",
    "TREE_FILE='lightgbm_tree'"
   ]
  },
  {
   "cell_type": "code",
   "execution_count": 3,
   "id": "76938d24-e2c3-4d2f-b4b9-15f4416a359f",
   "metadata": {},
   "outputs": [],
   "source": [
    "# coding: utf-8\n",
    "import lightgbm as lgb\n",
    "import graphviz\n",
    "\n",
    "import util\n",
    "\n",
    "try:\n",
    "    # To enable interactive mode you should install ipywidgets\n",
    "    # https://github.com/jupyter-widgets/ipywidgets\n",
    "    from ipywidgets import interact, SelectMultiple\n",
    "\n",
    "    INTERACTIVE = True\n",
    "except ImportError:\n",
    "    INTERACTIVE = False\n",
    "\n",
    "%matplotlib inline"
   ]
  },
  {
   "cell_type": "markdown",
   "id": "461acf58-975e-4c96-8e00-81d01d6fecb5",
   "metadata": {},
   "source": [
    "## 一、创建可交互的可视化界面"
   ]
  },
  {
   "cell_type": "code",
   "execution_count": 4,
   "id": "6b7ab86d-e37e-4c3c-905b-a43971ff4513",
   "metadata": {},
   "outputs": [],
   "source": [
    "model_path = util.gen_abspath(DIRECTORY, MODEL_FILE)\n",
    "gbm = lgb.Booster(model_file=model_path)"
   ]
  },
  {
   "cell_type": "code",
   "execution_count": 5,
   "id": "994c34c0-58f4-4855-b70c-45109f94a1f5",
   "metadata": {},
   "outputs": [],
   "source": [
    "def render_tree(tree_index, show_info, precision=3):\n",
    "    show_info = None if \"None\" in show_info else show_info\n",
    "    return lgb.create_tree_digraph(gbm, tree_index=tree_index, show_info=show_info, precision=precision)"
   ]
  },
  {
   "cell_type": "code",
   "execution_count": 6,
   "id": "f7bc9f79-4f98-4afb-b823-45cabe4c4b00",
   "metadata": {},
   "outputs": [
    {
     "data": {
      "application/vnd.jupyter.widget-view+json": {
       "model_id": "e20588813f8049bb9fc62a4727ce9cbe",
       "version_major": 2,
       "version_minor": 0
      },
      "text/plain": [
       "interactive(children=(IntSlider(value=49, description='tree_index', max=99), SelectMultiple(description='show_…"
      ]
     },
     "metadata": {},
     "output_type": "display_data"
    }
   ],
   "source": [
    "if INTERACTIVE:\n",
    "    # create widget to switch between trees and control info in nodes\n",
    "    interact(\n",
    "        render_tree,\n",
    "        tree_index=(0, gbm.num_trees() - 1),\n",
    "        show_info=SelectMultiple(  # allow multiple values to be selected\n",
    "            options=[\n",
    "                \"None\",\n",
    "                \"split_gain\",\n",
    "                \"internal_value\",\n",
    "                \"internal_count\",\n",
    "                \"internal_weight\",\n",
    "                \"leaf_count\",\n",
    "                \"leaf_weight\",\n",
    "                \"data_percentage\",\n",
    "            ],\n",
    "            value=[\"None\"],\n",
    "        ),\n",
    "        precision=(0, 10),\n",
    "    )\n",
    "    tree = None\n",
    "else:\n",
    "    tree = render_tree(53, [\"None\"])\n",
    "tree"
   ]
  },
  {
   "cell_type": "markdown",
   "id": "a8809303-89df-4733-94ec-aefe8e8ec603",
   "metadata": {},
   "source": [
    "## 二、将决策树存成 PNG / PDF"
   ]
  },
  {
   "cell_type": "code",
   "execution_count": 7,
   "id": "c845a038-7b3b-483f-bdcd-3a5fd38a2b0e",
   "metadata": {},
   "outputs": [],
   "source": [
    "# 获取存储路径\n",
    "graph_path = util.gen_abspath(DIRECTORY, TREE_FILE)\n",
    "\n",
    "# 绘制决策树\n",
    "g = lgb.create_tree_digraph(gbm, tree_index=0)\n",
    "# g"
   ]
  },
  {
   "cell_type": "code",
   "execution_count": 8,
   "id": "54eafb0b-3b38-4193-9ecb-7b5b6a80c4cd",
   "metadata": {},
   "outputs": [
    {
     "data": {
      "text/plain": [
       "'/Users/changluo/Documents/GitHub/lightgbm-tutorial/data/lightgbm_tree.png'"
      ]
     },
     "execution_count": 8,
     "metadata": {},
     "output_type": "execute_result"
    }
   ],
   "source": [
    "# 存成 PNG\n",
    "g.render(graph_path, format = \"png\")"
   ]
  },
  {
   "cell_type": "code",
   "execution_count": 9,
   "id": "73c215b4-44af-4e67-bcf7-ea945356ea46",
   "metadata": {},
   "outputs": [
    {
     "data": {
      "text/plain": [
       "'/Users/changluo/Documents/GitHub/lightgbm-tutorial/data/lightgbm_tree.pdf'"
      ]
     },
     "execution_count": 9,
     "metadata": {},
     "output_type": "execute_result"
    }
   ],
   "source": [
    "# 存成 PDF\n",
    "g.render(graph_path, format = \"pdf\")"
   ]
  },
  {
   "cell_type": "markdown",
   "id": "f0b2afe5-d7b0-4ddd-9714-9d8fd575fafa",
   "metadata": {},
   "source": [
    "参考：\n",
    "\n",
    "- [readthedocs](https://lightgbm.readthedocs.io/en/latest/pythonapi/lightgbm.create_tree_digraph.html)\n",
    "- [interactive_plot_example](https://github.com/microsoft/LightGBM/blob/master/examples/python-guide/notebooks/interactive_plot_example.ipynb)"
   ]
  },
  {
   "cell_type": "code",
   "execution_count": null,
   "id": "6a5813c2-be89-4ad3-88b1-665e9c7ca6b4",
   "metadata": {},
   "outputs": [],
   "source": []
  }
 ],
 "metadata": {
  "kernelspec": {
   "display_name": "Python 3 (ipykernel)",
   "language": "python",
   "name": "python3"
  },
  "language_info": {
   "codemirror_mode": {
    "name": "ipython",
    "version": 3
   },
   "file_extension": ".py",
   "mimetype": "text/x-python",
   "name": "python",
   "nbconvert_exporter": "python",
   "pygments_lexer": "ipython3",
   "version": "3.10.14"
  }
 },
 "nbformat": 4,
 "nbformat_minor": 5
}
