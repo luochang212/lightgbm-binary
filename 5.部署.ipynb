{
 "cells": [
  {
   "cell_type": "markdown",
   "id": "0e744b14-324b-4a93-a830-db61952ca62e",
   "metadata": {},
   "source": [
    "# 5. 部署\n",
    "\n",
    "在前面几节中，我们抽象出了一些公有代码，放在 `util` 包中，现在复用这些代码，快速构建一个 LightGBM 模型"
   ]
  },
  {
   "cell_type": "code",
   "execution_count": 1,
   "id": "73cce536-d752-462d-8fb3-f577a9a9bcef",
   "metadata": {},
   "outputs": [],
   "source": [
    "DIRECTORY='./data'\n",
    "TRAIN_FILE='adult/adult.data'\n",
    "TEST_FILE='adult/adult.test'\n",
    "MODEL_FILE='model_best.txt'\n",
    "COLS=['age', 'workclass', 'fnlwgt', 'education', 'education-num', 'marital-status',\n",
    "          'occupation', 'relationship', 'race', 'sex', 'capital-gain', 'capital-loss',\n",
    "          'hours-per-week', 'native-country', 'income']"
   ]
  },
  {
   "cell_type": "code",
   "execution_count": 2,
   "id": "ae9c823c-f736-4bcb-9a56-53b05872f06c",
   "metadata": {},
   "outputs": [],
   "source": [
    "# coding: utf-8\n",
    "import collections\n",
    "import numpy as np\n",
    "import pandas as pd\n",
    "import sklearn.preprocessing\n",
    "import sklearn.model_selection\n",
    "import sklearn.metrics\n",
    "import scipy.stats\n",
    "import scipy.integrate\n",
    "import lightgbm as lgb\n",
    "import matplotlib.pyplot as plt\n",
    "import seaborn as sns\n",
    "import optuna\n",
    "\n",
    "import util"
   ]
  },
  {
   "cell_type": "code",
   "execution_count": 3,
   "id": "9a14843f-5f01-4a52-95da-269a4e64e66f",
   "metadata": {},
   "outputs": [],
   "source": [
    "# 设置 optuna 的报警等级，第一次跑建议将等级设为 INFO（默认即为 INFO）\n",
    "optuna.logging.set_verbosity(optuna.logging.ERROR)"
   ]
  },
  {
   "cell_type": "markdown",
   "id": "ec2df4be-937f-42ca-a2d1-af5dbd6a52ea",
   "metadata": {},
   "source": [
    "## 一、快速训练 "
   ]
  },
  {
   "cell_type": "code",
   "execution_count": 4,
   "id": "2bc1c978-9b5a-4675-a770-da58b81867b5",
   "metadata": {},
   "outputs": [
    {
     "name": "stdout",
     "output_type": "stream",
     "text": [
      "Warning: Sample imbalance, set scale_pos_weight=3.154\n"
     ]
    }
   ],
   "source": [
    "# 读入 CSV 文件\n",
    "csv_file = util.gen_abspath(DIRECTORY, TRAIN_FILE)\n",
    "df = util.read_csv(csv_file, sep=',', header=None)\n",
    "df.columns=COLS\n",
    "\n",
    "# 特征与标号\n",
    "X = df.drop('income', axis=1)  # features\n",
    "y = df['income'].apply(lambda e: 0 if e == ' <=50K' else 1)  # label\n",
    "\n",
    "# 处理类别特征\n",
    "cat_feats = [col for col in X.columns if X[col].dtypes == np.dtype('object')]\n",
    "X = util.label_encoder(X)\n",
    "\n",
    "# 分割数据集\n",
    "X_train, X_test, y_train, y_test = sklearn.model_selection.train_test_split(X, y, test_size=0.2, random_state=42)\n",
    "lgb_train = lgb.Dataset(X_train,\n",
    "                        y_train,\n",
    "                        categorical_feature=cat_feats, \n",
    "                        free_raw_data=True)\n",
    "lgb_eval = lgb.Dataset(X_test,\n",
    "                    y_test,\n",
    "                    reference=lgb_train,\n",
    "                    categorical_feature=cat_feats, \n",
    "                    free_raw_data=True)\n",
    "\n",
    "# 配置训练参数\n",
    "best_params = {\n",
    "    \"objective\": \"binary\",\n",
    "    \"boosting_type\": \"gbdt\",\n",
    "    \"metric\": 'auc',\n",
    "    \"num_leaves\": 31,\n",
    "    \"learning_rate\": 0.05,\n",
    "    \"feature_fraction\": 0.9,\n",
    "    \"bagging_fraction\": 0.8,\n",
    "    \"bagging_freq\": 5,\n",
    "    'force_row_wise': True,\n",
    "    \"verbose\": 1\n",
    "}\n",
    "\n",
    "# 处理样本数据倾斜\n",
    "positive_ratio = sum(y_train) / len(y_train)\n",
    "tolerance = 0.1\n",
    "if positive_ratio > 0.5 + tolerance or positive_ratio < 0.5 - tolerance:\n",
    "    # if dataset is highly imbalanced\n",
    "    weight = util.gen_scale_pos_weight(y_train)\n",
    "    best_params[\"scale_pos_weight\"] = weight\n",
    "    print(f\"Warning: Sample imbalance, set scale_pos_weight={weight:.3f}\")"
   ]
  },
  {
   "cell_type": "code",
   "execution_count": 5,
   "id": "f5fbda12-3826-4722-b94c-257c29513f34",
   "metadata": {},
   "outputs": [
    {
     "name": "stdout",
     "output_type": "stream",
     "text": [
      "[LightGBM] [Info] Number of positive: 6270, number of negative: 19778\n",
      "[LightGBM] [Info] Total Bins 695\n",
      "[LightGBM] [Info] Number of data points in the train set: 26048, number of used features: 14\n",
      "[LightGBM] [Info] [binary:BoostFromScore]: pavg=0.240709 -> initscore=-1.148794\n",
      "[LightGBM] [Info] Start training from score -1.148794\n",
      "Training until validation scores don't improve for 10 rounds\n",
      "[10]\tvalid_0's auc: 0.913466\n",
      "[20]\tvalid_0's auc: 0.917998\n",
      "[30]\tvalid_0's auc: 0.920509\n",
      "[40]\tvalid_0's auc: 0.92282\n",
      "[50]\tvalid_0's auc: 0.924088\n",
      "[60]\tvalid_0's auc: 0.925256\n",
      "[70]\tvalid_0's auc: 0.926815\n",
      "[80]\tvalid_0's auc: 0.928022\n",
      "[90]\tvalid_0's auc: 0.928385\n",
      "[100]\tvalid_0's auc: 0.929098\n",
      "[110]\tvalid_0's auc: 0.929604\n",
      "[120]\tvalid_0's auc: 0.929643\n",
      "Did not meet early stopping. Best iteration is:\n",
      "[116]\tvalid_0's auc: 0.929727\n"
     ]
    }
   ],
   "source": [
    "# 训练\n",
    "gbm = lgb.train(best_params,\n",
    "                lgb_train,\n",
    "                num_boost_round=120,\n",
    "                valid_sets=lgb_eval,\n",
    "                callbacks=[lgb.early_stopping(stopping_rounds=10),\n",
    "                           lgb.log_evaluation(10)],\n",
    "                categorical_feature=cat_feats\n",
    ")"
   ]
  },
  {
   "cell_type": "code",
   "execution_count": 6,
   "id": "e4df71ff-747b-4a60-8e01-591d9dfc2807",
   "metadata": {},
   "outputs": [
    {
     "data": {
      "text/plain": [
       "<lightgbm.basic.Booster at 0x12b9f0190>"
      ]
     },
     "execution_count": 6,
     "metadata": {},
     "output_type": "execute_result"
    }
   ],
   "source": [
    "model_path = util.gen_abspath(DIRECTORY, MODEL_FILE)\n",
    "gbm.save_model(model_path)"
   ]
  },
  {
   "cell_type": "markdown",
   "id": "2886a6b9-8424-4155-8c1e-b8f691b3d449",
   "metadata": {},
   "source": [
    "## 二、快速部署"
   ]
  },
  {
   "cell_type": "code",
   "execution_count": 7,
   "id": "205efd84-5126-442c-8cea-4bd75e0ed45e",
   "metadata": {},
   "outputs": [],
   "source": [
    "bst = lgb.Booster(model_file=model_path)\n",
    "y_pred = bst.predict(X_test)"
   ]
  },
  {
   "cell_type": "code",
   "execution_count": 8,
   "id": "413b7971-aff4-414f-9f0c-411a8b567fbc",
   "metadata": {},
   "outputs": [
    {
     "name": "stdout",
     "output_type": "stream",
     "text": [
      "threshold: 0.70185\n",
      "accuracy: 0.87886\n",
      "precision: 0.75589\n",
      "recall: 0.73520\n",
      "f1_score: 0.74540\n",
      "auc: 0.92973\n",
      "cross-entropy loss: 0.33537\n",
      "True Positive (TP): 1155\n",
      "True Negative (TN): 4569\n",
      "False Positive (FP): 373\n",
      "False Negative (FN): 416\n",
      "confusion matrix:\n",
      "[[4569  373]\n",
      " [ 416 1155]]\n"
     ]
    }
   ],
   "source": [
    "y_label, threshold = util.eval_binary(y_true=y_test, y_pred=y_pred, ret=True)"
   ]
  },
  {
   "cell_type": "markdown",
   "id": "8e70575b-d040-40c2-a76a-892c68880586",
   "metadata": {},
   "source": [
    "### 2.1 离线部署\n",
    "\n",
    "如果这时候有一行数据进来，怎么对它进行推理呢？"
   ]
  },
  {
   "cell_type": "code",
   "execution_count": 9,
   "id": "91800a12-7533-4e38-a5c3-c065f56366c9",
   "metadata": {},
   "outputs": [
    {
     "data": {
      "text/html": [
       "<div>\n",
       "<style scoped>\n",
       "    .dataframe tbody tr th:only-of-type {\n",
       "        vertical-align: middle;\n",
       "    }\n",
       "\n",
       "    .dataframe tbody tr th {\n",
       "        vertical-align: top;\n",
       "    }\n",
       "\n",
       "    .dataframe thead th {\n",
       "        text-align: right;\n",
       "    }\n",
       "</style>\n",
       "<table border=\"1\" class=\"dataframe\">\n",
       "  <thead>\n",
       "    <tr style=\"text-align: right;\">\n",
       "      <th></th>\n",
       "      <th>age</th>\n",
       "      <th>workclass</th>\n",
       "      <th>fnlwgt</th>\n",
       "      <th>education</th>\n",
       "      <th>education-num</th>\n",
       "      <th>marital-status</th>\n",
       "      <th>occupation</th>\n",
       "      <th>relationship</th>\n",
       "      <th>race</th>\n",
       "      <th>sex</th>\n",
       "      <th>capital-gain</th>\n",
       "      <th>capital-loss</th>\n",
       "      <th>hours-per-week</th>\n",
       "      <th>native-country</th>\n",
       "      <th>income</th>\n",
       "    </tr>\n",
       "  </thead>\n",
       "  <tbody>\n",
       "    <tr>\n",
       "      <th>3</th>\n",
       "      <td>44</td>\n",
       "      <td>Private</td>\n",
       "      <td>160323</td>\n",
       "      <td>Some-college</td>\n",
       "      <td>10</td>\n",
       "      <td>Married-civ-spouse</td>\n",
       "      <td>Machine-op-inspct</td>\n",
       "      <td>Husband</td>\n",
       "      <td>Black</td>\n",
       "      <td>Male</td>\n",
       "      <td>7688</td>\n",
       "      <td>0</td>\n",
       "      <td>40</td>\n",
       "      <td>United-States</td>\n",
       "      <td>&gt;50K.</td>\n",
       "    </tr>\n",
       "  </tbody>\n",
       "</table>\n",
       "</div>"
      ],
      "text/plain": [
       "   age workclass  fnlwgt      education  education-num       marital-status  \\\n",
       "3   44   Private  160323   Some-college             10   Married-civ-spouse   \n",
       "\n",
       "           occupation relationship    race    sex  capital-gain  capital-loss  \\\n",
       "3   Machine-op-inspct      Husband   Black   Male          7688             0   \n",
       "\n",
       "   hours-per-week  native-country  income  \n",
       "3              40   United-States   >50K.  "
      ]
     },
     "execution_count": 9,
     "metadata": {},
     "output_type": "execute_result"
    }
   ],
   "source": [
    "# 假设这行数据长这样\n",
    "csv_file = util.gen_abspath(DIRECTORY, TEST_FILE)\n",
    "df_test = util.read_csv(csv_file, sep=',', header=None)\n",
    "df_test.columns=COLS\n",
    "\n",
    "df_one = df_test.iloc[3:4,:]\n",
    "df_one"
   ]
  },
  {
   "cell_type": "markdown",
   "id": "dde5eff1-7df5-402c-9660-0942a43c45ec",
   "metadata": {},
   "source": [
    "首先对它进行预处理"
   ]
  },
  {
   "cell_type": "code",
   "execution_count": 10,
   "id": "469b150b-682c-4677-9d04-6ebc191be1f2",
   "metadata": {},
   "outputs": [],
   "source": [
    "# 特征与标号\n",
    "XX = df_one.drop('income', axis=1)  # features\n",
    "yy = df_one['income'].apply(lambda e: 0 if e == ' <=50K.' else 1)  # label\n",
    "\n",
    "# 处理类别特征\n",
    "XX = util.label_encoder(XX)"
   ]
  },
  {
   "cell_type": "markdown",
   "id": "1207eb2f-639c-4e27-bd3c-6074e2c2f69e",
   "metadata": {},
   "source": [
    "然后进行预测"
   ]
  },
  {
   "cell_type": "code",
   "execution_count": 11,
   "id": "839de024-ec3e-4959-95ab-4ae89968aa14",
   "metadata": {},
   "outputs": [
    {
     "name": "stdout",
     "output_type": "stream",
     "text": [
      "y_guess: 0.98423\n",
      "y_label: 1\n",
      "y_true: 1\n"
     ]
    }
   ],
   "source": [
    "y_guess = bst.predict(XX)[0]\n",
    "y_label = 1 if y_guess > threshold else 0\n",
    "\n",
    "print(f'y_guess: {y_guess:.5f}')\n",
    "print(f'y_label: {y_label}')\n",
    "print(f'y_true: {list(yy)[0]}')"
   ]
  },
  {
   "cell_type": "markdown",
   "id": "225e5412-d904-42ef-9a53-ec89dafa8c26",
   "metadata": {},
   "source": [
    "### 2.2 在线部署\n",
    "\n",
    "可以用 FastAPI 进行在线部署。注意现实中需要对字段进行校验，对有问题的数据设计特殊策略，比如 异常兜底、异常报警、空值填充 等\n",
    "\n",
    "关于 FastAPI 的更多信息，可以查阅我的博客 [FastAPI 初见](https://www.luochang.ink/posts/fastapi/) 及配套代码 [calendar-api](https://github.com/luochang212/calendar-api)"
   ]
  },
  {
   "cell_type": "code",
   "execution_count": null,
   "id": "860e1c54-d815-424d-afeb-3428e1f1c83c",
   "metadata": {},
   "outputs": [],
   "source": []
  }
 ],
 "metadata": {
  "kernelspec": {
   "display_name": "Python 3 (ipykernel)",
   "language": "python",
   "name": "python3"
  },
  "language_info": {
   "codemirror_mode": {
    "name": "ipython",
    "version": 3
   },
   "file_extension": ".py",
   "mimetype": "text/x-python",
   "name": "python",
   "nbconvert_exporter": "python",
   "pygments_lexer": "ipython3",
   "version": "3.10.14"
  }
 },
 "nbformat": 4,
 "nbformat_minor": 5
}
