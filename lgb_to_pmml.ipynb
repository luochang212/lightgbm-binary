{
 "cells": [
  {
   "cell_type": "markdown",
   "id": "d2ca6cb1-f100-45cd-b31c-3569dd6efb95",
   "metadata": {},
   "source": [
    "# jpmml-lightgbm\n",
    "\n",
    "使用 [jpmml-lightgbm](https://github.com/jpmml/jpmml-lightgbm) 将 txt 格式的 LightGBM 模型文件转换成 PMML 格式。"
   ]
  },
  {
   "cell_type": "code",
   "execution_count": 1,
   "id": "694dd674-be96-4f61-97ea-c872390ad250",
   "metadata": {
    "execution": {
     "iopub.execute_input": "2024-07-09T10:38:33.432387Z",
     "iopub.status.busy": "2024-07-09T10:38:33.431953Z",
     "iopub.status.idle": "2024-07-09T10:38:33.440026Z",
     "shell.execute_reply": "2024-07-09T10:38:33.439297Z",
     "shell.execute_reply.started": "2024-07-09T10:38:33.432347Z"
    }
   },
   "outputs": [],
   "source": [
    "DIRECTORY = './data'\n",
    "TARGET_PATH = './target'\n",
    "JAR_FILE = 'pmml-lightgbm-example-executable-1.5.3.jar'\n",
    "MODEL_FILE = 'model_best.txt'\n",
    "PMML_FILE = 'model_best.pmml'"
   ]
  },
  {
   "cell_type": "code",
   "execution_count": 2,
   "id": "b0e68864-d785-4837-94c8-2823c334c002",
   "metadata": {
    "execution": {
     "iopub.execute_input": "2024-07-09T10:38:33.441864Z",
     "iopub.status.busy": "2024-07-09T10:38:33.441275Z",
     "iopub.status.idle": "2024-07-09T10:38:36.217989Z",
     "shell.execute_reply": "2024-07-09T10:38:36.217255Z",
     "shell.execute_reply.started": "2024-07-09T10:38:33.441809Z"
    }
   },
   "outputs": [],
   "source": [
    "import util"
   ]
  },
  {
   "cell_type": "code",
   "execution_count": 3,
   "id": "21358c44-4312-472d-9932-199f8cc9dbf6",
   "metadata": {
    "execution": {
     "iopub.execute_input": "2024-07-09T10:38:36.219579Z",
     "iopub.status.busy": "2024-07-09T10:38:36.218949Z",
     "iopub.status.idle": "2024-07-09T10:38:36.223579Z",
     "shell.execute_reply": "2024-07-09T10:38:36.222666Z",
     "shell.execute_reply.started": "2024-07-09T10:38:36.219547Z"
    }
   },
   "outputs": [],
   "source": [
    "jar_path = util.gen_abspath(TARGET_PATH, JAR_FILE)\n",
    "model_path = util.gen_abspath(DIRECTORY, MODEL_FILE)\n",
    "pmml_path = util.gen_abspath(DIRECTORY, PMML_FILE)"
   ]
  },
  {
   "cell_type": "code",
   "execution_count": 4,
   "id": "94aee754-a7a8-4aea-85d8-c62d1fb45858",
   "metadata": {
    "execution": {
     "iopub.execute_input": "2024-07-09T10:38:36.224703Z",
     "iopub.status.busy": "2024-07-09T10:38:36.224383Z",
     "iopub.status.idle": "2024-07-09T10:38:36.228165Z",
     "shell.execute_reply": "2024-07-09T10:38:36.227360Z",
     "shell.execute_reply.started": "2024-07-09T10:38:36.224677Z"
    }
   },
   "outputs": [],
   "source": [
    "# print('\\n'.join([\n",
    "#     f'jar_path={jar_path}',\n",
    "#     f'model_path={model_path}',\n",
    "#     f'pmml_path={pmml_path}',\n",
    "# ]))"
   ]
  },
  {
   "cell_type": "code",
   "execution_count": 5,
   "id": "f4266a2c-7256-46bc-9707-9df15231389e",
   "metadata": {
    "execution": {
     "iopub.execute_input": "2024-07-09T10:38:36.229498Z",
     "iopub.status.busy": "2024-07-09T10:38:36.229104Z",
     "iopub.status.idle": "2024-07-09T10:38:36.232534Z",
     "shell.execute_reply": "2024-07-09T10:38:36.231791Z",
     "shell.execute_reply.started": "2024-07-09T10:38:36.229471Z"
    }
   },
   "outputs": [],
   "source": [
    "# !echo \"${target_path}\""
   ]
  },
  {
   "cell_type": "code",
   "execution_count": 6,
   "id": "e7da949e-2358-44c6-aa73-bea36aa3f6f9",
   "metadata": {
    "execution": {
     "iopub.execute_input": "2024-07-09T10:38:36.235651Z",
     "iopub.status.busy": "2024-07-09T10:38:36.235383Z",
     "iopub.status.idle": "2024-07-09T10:38:36.239134Z",
     "shell.execute_reply": "2024-07-09T10:38:36.238195Z",
     "shell.execute_reply.started": "2024-07-09T10:38:36.235626Z"
    }
   },
   "outputs": [],
   "source": [
    "# !java -jar ${jar_path} --lgbm-input ${model_path} --pmml-output ${pmml_path}"
   ]
  },
  {
   "cell_type": "markdown",
   "id": "69dab34a-ae2c-478b-bbe2-e21df2faf483",
   "metadata": {},
   "source": [
    "`txt_to_pmml.sh`\n",
    "\n",
    "```bash\n",
    "jar_path={YOUR_JAR_PATH}\n",
    "model_path={YOUR_MODEL_PATH}\n",
    "pmml_path={YOUR_PMML_PATH}\n",
    "java -jar ${jar_path} --lgbm-input ${model_path} --pmml-output ${pmml_path}\n",
    "```"
   ]
  },
  {
   "cell_type": "code",
   "execution_count": null,
   "id": "d8d8f046-b7aa-4858-8c2a-dc73f1dcd3ad",
   "metadata": {},
   "outputs": [],
   "source": []
  }
 ],
 "metadata": {
  "kernelspec": {
   "display_name": "Python (py3.10)",
   "language": "python",
   "name": "python_3_10"
  },
  "language_info": {
   "codemirror_mode": {
    "name": "ipython",
    "version": 3
   },
   "file_extension": ".py",
   "mimetype": "text/x-python",
   "name": "python",
   "nbconvert_exporter": "python",
   "pygments_lexer": "ipython3",
   "version": "3.10.14"
  }
 },
 "nbformat": 4,
 "nbformat_minor": 5
}
