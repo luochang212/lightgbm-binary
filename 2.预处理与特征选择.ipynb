{
 "cells": [
  {
   "cell_type": "markdown",
   "id": "19cd9ca6-0896-42d4-a09d-03a0328c910e",
   "metadata": {},
   "source": [
    "# 2. 预处理与特征选择"
   ]
  },
  {
   "cell_type": "code",
   "execution_count": 1,
   "id": "46c2b986-d264-440e-bc78-8b64ae82707d",
   "metadata": {
    "execution": {
     "iopub.execute_input": "2024-07-09T10:09:04.349215Z",
     "iopub.status.busy": "2024-07-09T10:09:04.348853Z",
     "iopub.status.idle": "2024-07-09T10:09:04.353494Z",
     "shell.execute_reply": "2024-07-09T10:09:04.352619Z",
     "shell.execute_reply.started": "2024-07-09T10:09:04.349193Z"
    }
   },
   "outputs": [],
   "source": [
    "DIRECTORY = './data'\n",
    "TRAIN_FILE = 'adult/adult.data'\n",
    "MODEL_FILE = 'model_select.txt'\n",
    "JOBLIB_FILE = 'model_select.joblib'\n",
    "COLS = ['age', 'workclass', 'fnlwgt', 'education', 'education-num', 'marital-status',\n",
    "        'occupation', 'relationship', 'race', 'sex', 'capital-gain', 'capital-loss',\n",
    "        'hours-per-week', 'native-country', 'income']\n",
    "LABEL_COL = 'income'"
   ]
  },
  {
   "cell_type": "code",
   "execution_count": 2,
   "id": "5ada75c1-c535-4a8a-b39f-463abaf5136d",
   "metadata": {
    "execution": {
     "iopub.execute_input": "2024-07-09T10:09:04.354944Z",
     "iopub.status.busy": "2024-07-09T10:09:04.354656Z",
     "iopub.status.idle": "2024-07-09T10:09:04.358969Z",
     "shell.execute_reply": "2024-07-09T10:09:04.358363Z",
     "shell.execute_reply.started": "2024-07-09T10:09:04.354923Z"
    }
   },
   "outputs": [
    {
     "name": "stdout",
     "output_type": "stream",
     "text": [
      "MKL_THREADING_LAYER = GNU\n"
     ]
    }
   ],
   "source": [
    "import os\n",
    "\n",
    "if os.environ.get('MKL_THREADING_LAYER') is None:\n",
    "    os.environ['MKL_THREADING_LAYER'] = 'GNU'\n",
    "print(f\"MKL_THREADING_LAYER = {os.environ['MKL_THREADING_LAYER']}\")"
   ]
  },
  {
   "cell_type": "code",
   "execution_count": 3,
   "id": "c5c9a592-b603-41f6-b857-243547ff6763",
   "metadata": {
    "execution": {
     "iopub.execute_input": "2024-07-09T10:09:04.360247Z",
     "iopub.status.busy": "2024-07-09T10:09:04.359851Z",
     "iopub.status.idle": "2024-07-09T10:09:06.382649Z",
     "shell.execute_reply": "2024-07-09T10:09:06.381855Z",
     "shell.execute_reply.started": "2024-07-09T10:09:04.360226Z"
    }
   },
   "outputs": [],
   "source": [
    "# coding: utf-8\n",
    "import numpy as np\n",
    "import pandas as pd\n",
    "import sklearn.preprocessing\n",
    "import sklearn.model_selection\n",
    "import sklearn.metrics\n",
    "import lightgbm as lgb\n",
    "import matplotlib.pyplot as plt\n",
    "import joblib\n",
    "\n",
    "import util"
   ]
  },
  {
   "cell_type": "markdown",
   "id": "434ae5c8-5b8a-4423-be2c-254268d8c106",
   "metadata": {},
   "source": [
    "## 一、预处理"
   ]
  },
  {
   "cell_type": "code",
   "execution_count": 4,
   "id": "9e696e50-6b46-4bcc-ab23-d92e5d977c72",
   "metadata": {
    "execution": {
     "iopub.execute_input": "2024-07-09T10:09:06.442774Z",
     "iopub.status.busy": "2024-07-09T10:09:06.383456Z",
     "iopub.status.idle": "2024-07-09T10:09:06.512555Z",
     "shell.execute_reply": "2024-07-09T10:09:06.511795Z",
     "shell.execute_reply.started": "2024-07-09T10:09:06.442727Z"
    }
   },
   "outputs": [],
   "source": [
    "csv_file = util.gen_abspath(DIRECTORY, TRAIN_FILE)\n",
    "df = util.read_csv(csv_file, sep=',', header=None)\n",
    "df.columns = COLS"
   ]
  },
  {
   "cell_type": "code",
   "execution_count": 5,
   "id": "e900b9d4-12cd-4878-9976-6b697d41f290",
   "metadata": {
    "execution": {
     "iopub.execute_input": "2024-07-09T10:09:06.517674Z",
     "iopub.status.busy": "2024-07-09T10:09:06.517321Z",
     "iopub.status.idle": "2024-07-09T10:09:06.537629Z",
     "shell.execute_reply": "2024-07-09T10:09:06.537081Z",
     "shell.execute_reply.started": "2024-07-09T10:09:06.517652Z"
    }
   },
   "outputs": [
    {
     "name": "stdout",
     "output_type": "stream",
     "text": [
      "<class 'pandas.core.frame.DataFrame'>\n",
      "RangeIndex: 32561 entries, 0 to 32560\n",
      "Data columns (total 15 columns):\n",
      " #   Column          Non-Null Count  Dtype \n",
      "---  ------          --------------  ----- \n",
      " 0   age             32561 non-null  int64 \n",
      " 1   workclass       32561 non-null  object\n",
      " 2   fnlwgt          32561 non-null  int64 \n",
      " 3   education       32561 non-null  object\n",
      " 4   education-num   32561 non-null  int64 \n",
      " 5   marital-status  32561 non-null  object\n",
      " 6   occupation      32561 non-null  object\n",
      " 7   relationship    32561 non-null  object\n",
      " 8   race            32561 non-null  object\n",
      " 9   sex             32561 non-null  object\n",
      " 10  capital-gain    32561 non-null  int64 \n",
      " 11  capital-loss    32561 non-null  int64 \n",
      " 12  hours-per-week  32561 non-null  int64 \n",
      " 13  native-country  32561 non-null  object\n",
      " 14  income          32561 non-null  object\n",
      "dtypes: int64(6), object(9)\n",
      "memory usage: 3.7+ MB\n"
     ]
    }
   ],
   "source": [
    "df.info()"
   ]
  },
  {
   "cell_type": "code",
   "execution_count": 6,
   "id": "7dc92f6d-80c8-4349-88f2-43c823ce3093",
   "metadata": {
    "execution": {
     "iopub.execute_input": "2024-07-09T10:09:06.538592Z",
     "iopub.status.busy": "2024-07-09T10:09:06.538391Z",
     "iopub.status.idle": "2024-07-09T10:09:06.556724Z",
     "shell.execute_reply": "2024-07-09T10:09:06.556032Z",
     "shell.execute_reply.started": "2024-07-09T10:09:06.538573Z"
    }
   },
   "outputs": [
    {
     "data": {
      "text/html": [
       "<div>\n",
       "<style scoped>\n",
       "    .dataframe tbody tr th:only-of-type {\n",
       "        vertical-align: middle;\n",
       "    }\n",
       "\n",
       "    .dataframe tbody tr th {\n",
       "        vertical-align: top;\n",
       "    }\n",
       "\n",
       "    .dataframe thead th {\n",
       "        text-align: right;\n",
       "    }\n",
       "</style>\n",
       "<table border=\"1\" class=\"dataframe\">\n",
       "  <thead>\n",
       "    <tr style=\"text-align: right;\">\n",
       "      <th></th>\n",
       "      <th>age</th>\n",
       "      <th>workclass</th>\n",
       "      <th>fnlwgt</th>\n",
       "      <th>education</th>\n",
       "      <th>education-num</th>\n",
       "      <th>marital-status</th>\n",
       "      <th>occupation</th>\n",
       "      <th>relationship</th>\n",
       "      <th>race</th>\n",
       "      <th>sex</th>\n",
       "      <th>capital-gain</th>\n",
       "      <th>capital-loss</th>\n",
       "      <th>hours-per-week</th>\n",
       "      <th>native-country</th>\n",
       "      <th>income</th>\n",
       "    </tr>\n",
       "  </thead>\n",
       "  <tbody>\n",
       "    <tr>\n",
       "      <th>0</th>\n",
       "      <td>39</td>\n",
       "      <td>State-gov</td>\n",
       "      <td>77516</td>\n",
       "      <td>Bachelors</td>\n",
       "      <td>13</td>\n",
       "      <td>Never-married</td>\n",
       "      <td>Adm-clerical</td>\n",
       "      <td>Not-in-family</td>\n",
       "      <td>White</td>\n",
       "      <td>Male</td>\n",
       "      <td>2174</td>\n",
       "      <td>0</td>\n",
       "      <td>40</td>\n",
       "      <td>United-States</td>\n",
       "      <td>&lt;=50K</td>\n",
       "    </tr>\n",
       "    <tr>\n",
       "      <th>1</th>\n",
       "      <td>50</td>\n",
       "      <td>Self-emp-not-inc</td>\n",
       "      <td>83311</td>\n",
       "      <td>Bachelors</td>\n",
       "      <td>13</td>\n",
       "      <td>Married-civ-spouse</td>\n",
       "      <td>Exec-managerial</td>\n",
       "      <td>Husband</td>\n",
       "      <td>White</td>\n",
       "      <td>Male</td>\n",
       "      <td>0</td>\n",
       "      <td>0</td>\n",
       "      <td>13</td>\n",
       "      <td>United-States</td>\n",
       "      <td>&lt;=50K</td>\n",
       "    </tr>\n",
       "    <tr>\n",
       "      <th>2</th>\n",
       "      <td>38</td>\n",
       "      <td>Private</td>\n",
       "      <td>215646</td>\n",
       "      <td>HS-grad</td>\n",
       "      <td>9</td>\n",
       "      <td>Divorced</td>\n",
       "      <td>Handlers-cleaners</td>\n",
       "      <td>Not-in-family</td>\n",
       "      <td>White</td>\n",
       "      <td>Male</td>\n",
       "      <td>0</td>\n",
       "      <td>0</td>\n",
       "      <td>40</td>\n",
       "      <td>United-States</td>\n",
       "      <td>&lt;=50K</td>\n",
       "    </tr>\n",
       "    <tr>\n",
       "      <th>3</th>\n",
       "      <td>53</td>\n",
       "      <td>Private</td>\n",
       "      <td>234721</td>\n",
       "      <td>11th</td>\n",
       "      <td>7</td>\n",
       "      <td>Married-civ-spouse</td>\n",
       "      <td>Handlers-cleaners</td>\n",
       "      <td>Husband</td>\n",
       "      <td>Black</td>\n",
       "      <td>Male</td>\n",
       "      <td>0</td>\n",
       "      <td>0</td>\n",
       "      <td>40</td>\n",
       "      <td>United-States</td>\n",
       "      <td>&lt;=50K</td>\n",
       "    </tr>\n",
       "    <tr>\n",
       "      <th>4</th>\n",
       "      <td>28</td>\n",
       "      <td>Private</td>\n",
       "      <td>338409</td>\n",
       "      <td>Bachelors</td>\n",
       "      <td>13</td>\n",
       "      <td>Married-civ-spouse</td>\n",
       "      <td>Prof-specialty</td>\n",
       "      <td>Wife</td>\n",
       "      <td>Black</td>\n",
       "      <td>Female</td>\n",
       "      <td>0</td>\n",
       "      <td>0</td>\n",
       "      <td>40</td>\n",
       "      <td>Cuba</td>\n",
       "      <td>&lt;=50K</td>\n",
       "    </tr>\n",
       "    <tr>\n",
       "      <th>...</th>\n",
       "      <td>...</td>\n",
       "      <td>...</td>\n",
       "      <td>...</td>\n",
       "      <td>...</td>\n",
       "      <td>...</td>\n",
       "      <td>...</td>\n",
       "      <td>...</td>\n",
       "      <td>...</td>\n",
       "      <td>...</td>\n",
       "      <td>...</td>\n",
       "      <td>...</td>\n",
       "      <td>...</td>\n",
       "      <td>...</td>\n",
       "      <td>...</td>\n",
       "      <td>...</td>\n",
       "    </tr>\n",
       "    <tr>\n",
       "      <th>32556</th>\n",
       "      <td>27</td>\n",
       "      <td>Private</td>\n",
       "      <td>257302</td>\n",
       "      <td>Assoc-acdm</td>\n",
       "      <td>12</td>\n",
       "      <td>Married-civ-spouse</td>\n",
       "      <td>Tech-support</td>\n",
       "      <td>Wife</td>\n",
       "      <td>White</td>\n",
       "      <td>Female</td>\n",
       "      <td>0</td>\n",
       "      <td>0</td>\n",
       "      <td>38</td>\n",
       "      <td>United-States</td>\n",
       "      <td>&lt;=50K</td>\n",
       "    </tr>\n",
       "    <tr>\n",
       "      <th>32557</th>\n",
       "      <td>40</td>\n",
       "      <td>Private</td>\n",
       "      <td>154374</td>\n",
       "      <td>HS-grad</td>\n",
       "      <td>9</td>\n",
       "      <td>Married-civ-spouse</td>\n",
       "      <td>Machine-op-inspct</td>\n",
       "      <td>Husband</td>\n",
       "      <td>White</td>\n",
       "      <td>Male</td>\n",
       "      <td>0</td>\n",
       "      <td>0</td>\n",
       "      <td>40</td>\n",
       "      <td>United-States</td>\n",
       "      <td>&gt;50K</td>\n",
       "    </tr>\n",
       "    <tr>\n",
       "      <th>32558</th>\n",
       "      <td>58</td>\n",
       "      <td>Private</td>\n",
       "      <td>151910</td>\n",
       "      <td>HS-grad</td>\n",
       "      <td>9</td>\n",
       "      <td>Widowed</td>\n",
       "      <td>Adm-clerical</td>\n",
       "      <td>Unmarried</td>\n",
       "      <td>White</td>\n",
       "      <td>Female</td>\n",
       "      <td>0</td>\n",
       "      <td>0</td>\n",
       "      <td>40</td>\n",
       "      <td>United-States</td>\n",
       "      <td>&lt;=50K</td>\n",
       "    </tr>\n",
       "    <tr>\n",
       "      <th>32559</th>\n",
       "      <td>22</td>\n",
       "      <td>Private</td>\n",
       "      <td>201490</td>\n",
       "      <td>HS-grad</td>\n",
       "      <td>9</td>\n",
       "      <td>Never-married</td>\n",
       "      <td>Adm-clerical</td>\n",
       "      <td>Own-child</td>\n",
       "      <td>White</td>\n",
       "      <td>Male</td>\n",
       "      <td>0</td>\n",
       "      <td>0</td>\n",
       "      <td>20</td>\n",
       "      <td>United-States</td>\n",
       "      <td>&lt;=50K</td>\n",
       "    </tr>\n",
       "    <tr>\n",
       "      <th>32560</th>\n",
       "      <td>52</td>\n",
       "      <td>Self-emp-inc</td>\n",
       "      <td>287927</td>\n",
       "      <td>HS-grad</td>\n",
       "      <td>9</td>\n",
       "      <td>Married-civ-spouse</td>\n",
       "      <td>Exec-managerial</td>\n",
       "      <td>Wife</td>\n",
       "      <td>White</td>\n",
       "      <td>Female</td>\n",
       "      <td>15024</td>\n",
       "      <td>0</td>\n",
       "      <td>40</td>\n",
       "      <td>United-States</td>\n",
       "      <td>&gt;50K</td>\n",
       "    </tr>\n",
       "  </tbody>\n",
       "</table>\n",
       "<p>32561 rows × 15 columns</p>\n",
       "</div>"
      ],
      "text/plain": [
       "       age          workclass  fnlwgt    education  education-num  \\\n",
       "0       39          State-gov   77516    Bachelors             13   \n",
       "1       50   Self-emp-not-inc   83311    Bachelors             13   \n",
       "2       38            Private  215646      HS-grad              9   \n",
       "3       53            Private  234721         11th              7   \n",
       "4       28            Private  338409    Bachelors             13   \n",
       "...    ...                ...     ...          ...            ...   \n",
       "32556   27            Private  257302   Assoc-acdm             12   \n",
       "32557   40            Private  154374      HS-grad              9   \n",
       "32558   58            Private  151910      HS-grad              9   \n",
       "32559   22            Private  201490      HS-grad              9   \n",
       "32560   52       Self-emp-inc  287927      HS-grad              9   \n",
       "\n",
       "            marital-status          occupation    relationship    race  \\\n",
       "0            Never-married        Adm-clerical   Not-in-family   White   \n",
       "1       Married-civ-spouse     Exec-managerial         Husband   White   \n",
       "2                 Divorced   Handlers-cleaners   Not-in-family   White   \n",
       "3       Married-civ-spouse   Handlers-cleaners         Husband   Black   \n",
       "4       Married-civ-spouse      Prof-specialty            Wife   Black   \n",
       "...                    ...                 ...             ...     ...   \n",
       "32556   Married-civ-spouse        Tech-support            Wife   White   \n",
       "32557   Married-civ-spouse   Machine-op-inspct         Husband   White   \n",
       "32558              Widowed        Adm-clerical       Unmarried   White   \n",
       "32559        Never-married        Adm-clerical       Own-child   White   \n",
       "32560   Married-civ-spouse     Exec-managerial            Wife   White   \n",
       "\n",
       "           sex  capital-gain  capital-loss  hours-per-week  native-country  \\\n",
       "0         Male          2174             0              40   United-States   \n",
       "1         Male             0             0              13   United-States   \n",
       "2         Male             0             0              40   United-States   \n",
       "3         Male             0             0              40   United-States   \n",
       "4       Female             0             0              40            Cuba   \n",
       "...        ...           ...           ...             ...             ...   \n",
       "32556   Female             0             0              38   United-States   \n",
       "32557     Male             0             0              40   United-States   \n",
       "32558   Female             0             0              40   United-States   \n",
       "32559     Male             0             0              20   United-States   \n",
       "32560   Female         15024             0              40   United-States   \n",
       "\n",
       "       income  \n",
       "0       <=50K  \n",
       "1       <=50K  \n",
       "2       <=50K  \n",
       "3       <=50K  \n",
       "4       <=50K  \n",
       "...       ...  \n",
       "32556   <=50K  \n",
       "32557    >50K  \n",
       "32558   <=50K  \n",
       "32559   <=50K  \n",
       "32560    >50K  \n",
       "\n",
       "[32561 rows x 15 columns]"
      ]
     },
     "execution_count": 6,
     "metadata": {},
     "output_type": "execute_result"
    }
   ],
   "source": [
    "df"
   ]
  },
  {
   "cell_type": "code",
   "execution_count": 7,
   "id": "5c2b300d-c883-4a99-88af-f4037763e6ea",
   "metadata": {
    "execution": {
     "iopub.execute_input": "2024-07-09T10:09:06.557999Z",
     "iopub.status.busy": "2024-07-09T10:09:06.557730Z",
     "iopub.status.idle": "2024-07-09T10:09:06.585942Z",
     "shell.execute_reply": "2024-07-09T10:09:06.585041Z",
     "shell.execute_reply.started": "2024-07-09T10:09:06.557978Z"
    }
   },
   "outputs": [
    {
     "data": {
      "text/html": [
       "<div>\n",
       "<style scoped>\n",
       "    .dataframe tbody tr th:only-of-type {\n",
       "        vertical-align: middle;\n",
       "    }\n",
       "\n",
       "    .dataframe tbody tr th {\n",
       "        vertical-align: top;\n",
       "    }\n",
       "\n",
       "    .dataframe thead th {\n",
       "        text-align: right;\n",
       "    }\n",
       "</style>\n",
       "<table border=\"1\" class=\"dataframe\">\n",
       "  <thead>\n",
       "    <tr style=\"text-align: right;\">\n",
       "      <th></th>\n",
       "      <th>col_name</th>\n",
       "      <th>val_cnt</th>\n",
       "    </tr>\n",
       "  </thead>\n",
       "  <tbody>\n",
       "    <tr>\n",
       "      <th>0</th>\n",
       "      <td>age</td>\n",
       "      <td>73</td>\n",
       "    </tr>\n",
       "    <tr>\n",
       "      <th>1</th>\n",
       "      <td>workclass</td>\n",
       "      <td>9</td>\n",
       "    </tr>\n",
       "    <tr>\n",
       "      <th>2</th>\n",
       "      <td>fnlwgt</td>\n",
       "      <td>21648</td>\n",
       "    </tr>\n",
       "    <tr>\n",
       "      <th>3</th>\n",
       "      <td>education</td>\n",
       "      <td>16</td>\n",
       "    </tr>\n",
       "    <tr>\n",
       "      <th>4</th>\n",
       "      <td>education-num</td>\n",
       "      <td>16</td>\n",
       "    </tr>\n",
       "    <tr>\n",
       "      <th>5</th>\n",
       "      <td>marital-status</td>\n",
       "      <td>7</td>\n",
       "    </tr>\n",
       "    <tr>\n",
       "      <th>6</th>\n",
       "      <td>occupation</td>\n",
       "      <td>15</td>\n",
       "    </tr>\n",
       "    <tr>\n",
       "      <th>7</th>\n",
       "      <td>relationship</td>\n",
       "      <td>6</td>\n",
       "    </tr>\n",
       "    <tr>\n",
       "      <th>8</th>\n",
       "      <td>race</td>\n",
       "      <td>5</td>\n",
       "    </tr>\n",
       "    <tr>\n",
       "      <th>9</th>\n",
       "      <td>sex</td>\n",
       "      <td>2</td>\n",
       "    </tr>\n",
       "    <tr>\n",
       "      <th>10</th>\n",
       "      <td>capital-gain</td>\n",
       "      <td>119</td>\n",
       "    </tr>\n",
       "    <tr>\n",
       "      <th>11</th>\n",
       "      <td>capital-loss</td>\n",
       "      <td>92</td>\n",
       "    </tr>\n",
       "    <tr>\n",
       "      <th>12</th>\n",
       "      <td>hours-per-week</td>\n",
       "      <td>94</td>\n",
       "    </tr>\n",
       "    <tr>\n",
       "      <th>13</th>\n",
       "      <td>native-country</td>\n",
       "      <td>42</td>\n",
       "    </tr>\n",
       "    <tr>\n",
       "      <th>14</th>\n",
       "      <td>income</td>\n",
       "      <td>2</td>\n",
       "    </tr>\n",
       "  </tbody>\n",
       "</table>\n",
       "</div>"
      ],
      "text/plain": [
       "          col_name  val_cnt\n",
       "0              age       73\n",
       "1        workclass        9\n",
       "2           fnlwgt    21648\n",
       "3        education       16\n",
       "4    education-num       16\n",
       "5   marital-status        7\n",
       "6       occupation       15\n",
       "7     relationship        6\n",
       "8             race        5\n",
       "9              sex        2\n",
       "10    capital-gain      119\n",
       "11    capital-loss       92\n",
       "12  hours-per-week       94\n",
       "13  native-country       42\n",
       "14          income        2"
      ]
     },
     "execution_count": 7,
     "metadata": {},
     "output_type": "execute_result"
    }
   ],
   "source": [
    "util.value_counts(df)"
   ]
  },
  {
   "cell_type": "markdown",
   "id": "9b126188-d7a8-4dc5-9f81-4f9f2490e2db",
   "metadata": {},
   "source": [
    "### 1.1 标签编码\n",
    "\n",
    "因为 LightGBM 不接受 String 类型特征作为输入（LightGBM 只接受 float, int, bool 三种数据类型），因此需要用 `LabelEncoder()` 函数将类别变量 (category variable) 编码成整数 (int).\n",
    "\n",
    "举个例子说明 `LabelEncoder()` 的作用。假如地址字段有三个枚举值，分别是：北京、上海、香港。经过 `LabelEncoder()` 编码后，北京被编码为 0，上海被编码为 1，香港被编码为 2."
   ]
  },
  {
   "cell_type": "code",
   "execution_count": 8,
   "id": "d803b1ce-c532-459a-8ccc-2a498486b98e",
   "metadata": {
    "execution": {
     "iopub.execute_input": "2024-07-09T10:09:06.587906Z",
     "iopub.status.busy": "2024-07-09T10:09:06.587199Z",
     "iopub.status.idle": "2024-07-09T10:09:06.607030Z",
     "shell.execute_reply": "2024-07-09T10:09:06.606119Z",
     "shell.execute_reply.started": "2024-07-09T10:09:06.587867Z"
    }
   },
   "outputs": [],
   "source": [
    "# features\n",
    "X = df.drop(LABEL_COL, axis=1)\n",
    "\n",
    "# label\n",
    "y = df[LABEL_COL].apply(lambda e: 0 if e == ' <=50K' else 1)"
   ]
  },
  {
   "cell_type": "code",
   "execution_count": 9,
   "id": "566ec163-38c7-4c06-aa9e-b847544fbebc",
   "metadata": {
    "execution": {
     "iopub.execute_input": "2024-07-09T10:09:06.608759Z",
     "iopub.status.busy": "2024-07-09T10:09:06.608178Z",
     "iopub.status.idle": "2024-07-09T10:09:06.615294Z",
     "shell.execute_reply": "2024-07-09T10:09:06.614230Z",
     "shell.execute_reply.started": "2024-07-09T10:09:06.608729Z"
    }
   },
   "outputs": [
    {
     "data": {
      "text/plain": [
       "['workclass',\n",
       " 'education',\n",
       " 'marital-status',\n",
       " 'occupation',\n",
       " 'relationship',\n",
       " 'race',\n",
       " 'sex',\n",
       " 'native-country']"
      ]
     },
     "execution_count": 9,
     "metadata": {},
     "output_type": "execute_result"
    }
   ],
   "source": [
    "# 类别特征 category features\n",
    "cat_feats = [col for col in X.columns if X[col].dtypes == np.dtype('object')]\n",
    "cat_feats"
   ]
  },
  {
   "cell_type": "code",
   "execution_count": 10,
   "id": "71be58bb-b9f4-4d2c-a3f6-9d501a7616ad",
   "metadata": {
    "execution": {
     "iopub.execute_input": "2024-07-09T10:09:06.617065Z",
     "iopub.status.busy": "2024-07-09T10:09:06.616397Z",
     "iopub.status.idle": "2024-07-09T10:09:06.622726Z",
     "shell.execute_reply": "2024-07-09T10:09:06.621490Z",
     "shell.execute_reply.started": "2024-07-09T10:09:06.617025Z"
    }
   },
   "outputs": [],
   "source": [
    "# 将类别特征 (String) 编码成整数 (int)\n",
    "def label_encoder(df):\n",
    "    cat_feats = [col for col in df.columns if df[col].dtypes == np.dtype('object')]\n",
    "    for col in cat_feats:\n",
    "        df[col] = sklearn.preprocessing.LabelEncoder().fit_transform(df[col])\n",
    "    return df"
   ]
  },
  {
   "cell_type": "code",
   "execution_count": 11,
   "id": "dba39089-7ea8-444f-a205-063dc06576bc",
   "metadata": {
    "execution": {
     "iopub.execute_input": "2024-07-09T10:09:06.624875Z",
     "iopub.status.busy": "2024-07-09T10:09:06.624403Z",
     "iopub.status.idle": "2024-07-09T10:09:06.674914Z",
     "shell.execute_reply": "2024-07-09T10:09:06.673611Z",
     "shell.execute_reply.started": "2024-07-09T10:09:06.624847Z"
    }
   },
   "outputs": [
    {
     "data": {
      "text/html": [
       "<div>\n",
       "<style scoped>\n",
       "    .dataframe tbody tr th:only-of-type {\n",
       "        vertical-align: middle;\n",
       "    }\n",
       "\n",
       "    .dataframe tbody tr th {\n",
       "        vertical-align: top;\n",
       "    }\n",
       "\n",
       "    .dataframe thead th {\n",
       "        text-align: right;\n",
       "    }\n",
       "</style>\n",
       "<table border=\"1\" class=\"dataframe\">\n",
       "  <thead>\n",
       "    <tr style=\"text-align: right;\">\n",
       "      <th></th>\n",
       "      <th>age</th>\n",
       "      <th>workclass</th>\n",
       "      <th>fnlwgt</th>\n",
       "      <th>education</th>\n",
       "      <th>education-num</th>\n",
       "      <th>marital-status</th>\n",
       "      <th>occupation</th>\n",
       "      <th>relationship</th>\n",
       "      <th>race</th>\n",
       "      <th>sex</th>\n",
       "      <th>capital-gain</th>\n",
       "      <th>capital-loss</th>\n",
       "      <th>hours-per-week</th>\n",
       "      <th>native-country</th>\n",
       "    </tr>\n",
       "  </thead>\n",
       "  <tbody>\n",
       "    <tr>\n",
       "      <th>0</th>\n",
       "      <td>39</td>\n",
       "      <td>7</td>\n",
       "      <td>77516</td>\n",
       "      <td>9</td>\n",
       "      <td>13</td>\n",
       "      <td>4</td>\n",
       "      <td>1</td>\n",
       "      <td>1</td>\n",
       "      <td>4</td>\n",
       "      <td>1</td>\n",
       "      <td>2174</td>\n",
       "      <td>0</td>\n",
       "      <td>40</td>\n",
       "      <td>39</td>\n",
       "    </tr>\n",
       "    <tr>\n",
       "      <th>1</th>\n",
       "      <td>50</td>\n",
       "      <td>6</td>\n",
       "      <td>83311</td>\n",
       "      <td>9</td>\n",
       "      <td>13</td>\n",
       "      <td>2</td>\n",
       "      <td>4</td>\n",
       "      <td>0</td>\n",
       "      <td>4</td>\n",
       "      <td>1</td>\n",
       "      <td>0</td>\n",
       "      <td>0</td>\n",
       "      <td>13</td>\n",
       "      <td>39</td>\n",
       "    </tr>\n",
       "    <tr>\n",
       "      <th>2</th>\n",
       "      <td>38</td>\n",
       "      <td>4</td>\n",
       "      <td>215646</td>\n",
       "      <td>11</td>\n",
       "      <td>9</td>\n",
       "      <td>0</td>\n",
       "      <td>6</td>\n",
       "      <td>1</td>\n",
       "      <td>4</td>\n",
       "      <td>1</td>\n",
       "      <td>0</td>\n",
       "      <td>0</td>\n",
       "      <td>40</td>\n",
       "      <td>39</td>\n",
       "    </tr>\n",
       "    <tr>\n",
       "      <th>3</th>\n",
       "      <td>53</td>\n",
       "      <td>4</td>\n",
       "      <td>234721</td>\n",
       "      <td>1</td>\n",
       "      <td>7</td>\n",
       "      <td>2</td>\n",
       "      <td>6</td>\n",
       "      <td>0</td>\n",
       "      <td>2</td>\n",
       "      <td>1</td>\n",
       "      <td>0</td>\n",
       "      <td>0</td>\n",
       "      <td>40</td>\n",
       "      <td>39</td>\n",
       "    </tr>\n",
       "    <tr>\n",
       "      <th>4</th>\n",
       "      <td>28</td>\n",
       "      <td>4</td>\n",
       "      <td>338409</td>\n",
       "      <td>9</td>\n",
       "      <td>13</td>\n",
       "      <td>2</td>\n",
       "      <td>10</td>\n",
       "      <td>5</td>\n",
       "      <td>2</td>\n",
       "      <td>0</td>\n",
       "      <td>0</td>\n",
       "      <td>0</td>\n",
       "      <td>40</td>\n",
       "      <td>5</td>\n",
       "    </tr>\n",
       "    <tr>\n",
       "      <th>...</th>\n",
       "      <td>...</td>\n",
       "      <td>...</td>\n",
       "      <td>...</td>\n",
       "      <td>...</td>\n",
       "      <td>...</td>\n",
       "      <td>...</td>\n",
       "      <td>...</td>\n",
       "      <td>...</td>\n",
       "      <td>...</td>\n",
       "      <td>...</td>\n",
       "      <td>...</td>\n",
       "      <td>...</td>\n",
       "      <td>...</td>\n",
       "      <td>...</td>\n",
       "    </tr>\n",
       "    <tr>\n",
       "      <th>32556</th>\n",
       "      <td>27</td>\n",
       "      <td>4</td>\n",
       "      <td>257302</td>\n",
       "      <td>7</td>\n",
       "      <td>12</td>\n",
       "      <td>2</td>\n",
       "      <td>13</td>\n",
       "      <td>5</td>\n",
       "      <td>4</td>\n",
       "      <td>0</td>\n",
       "      <td>0</td>\n",
       "      <td>0</td>\n",
       "      <td>38</td>\n",
       "      <td>39</td>\n",
       "    </tr>\n",
       "    <tr>\n",
       "      <th>32557</th>\n",
       "      <td>40</td>\n",
       "      <td>4</td>\n",
       "      <td>154374</td>\n",
       "      <td>11</td>\n",
       "      <td>9</td>\n",
       "      <td>2</td>\n",
       "      <td>7</td>\n",
       "      <td>0</td>\n",
       "      <td>4</td>\n",
       "      <td>1</td>\n",
       "      <td>0</td>\n",
       "      <td>0</td>\n",
       "      <td>40</td>\n",
       "      <td>39</td>\n",
       "    </tr>\n",
       "    <tr>\n",
       "      <th>32558</th>\n",
       "      <td>58</td>\n",
       "      <td>4</td>\n",
       "      <td>151910</td>\n",
       "      <td>11</td>\n",
       "      <td>9</td>\n",
       "      <td>6</td>\n",
       "      <td>1</td>\n",
       "      <td>4</td>\n",
       "      <td>4</td>\n",
       "      <td>0</td>\n",
       "      <td>0</td>\n",
       "      <td>0</td>\n",
       "      <td>40</td>\n",
       "      <td>39</td>\n",
       "    </tr>\n",
       "    <tr>\n",
       "      <th>32559</th>\n",
       "      <td>22</td>\n",
       "      <td>4</td>\n",
       "      <td>201490</td>\n",
       "      <td>11</td>\n",
       "      <td>9</td>\n",
       "      <td>4</td>\n",
       "      <td>1</td>\n",
       "      <td>3</td>\n",
       "      <td>4</td>\n",
       "      <td>1</td>\n",
       "      <td>0</td>\n",
       "      <td>0</td>\n",
       "      <td>20</td>\n",
       "      <td>39</td>\n",
       "    </tr>\n",
       "    <tr>\n",
       "      <th>32560</th>\n",
       "      <td>52</td>\n",
       "      <td>5</td>\n",
       "      <td>287927</td>\n",
       "      <td>11</td>\n",
       "      <td>9</td>\n",
       "      <td>2</td>\n",
       "      <td>4</td>\n",
       "      <td>5</td>\n",
       "      <td>4</td>\n",
       "      <td>0</td>\n",
       "      <td>15024</td>\n",
       "      <td>0</td>\n",
       "      <td>40</td>\n",
       "      <td>39</td>\n",
       "    </tr>\n",
       "  </tbody>\n",
       "</table>\n",
       "<p>32561 rows × 14 columns</p>\n",
       "</div>"
      ],
      "text/plain": [
       "       age  workclass  fnlwgt  education  education-num  marital-status  \\\n",
       "0       39          7   77516          9             13               4   \n",
       "1       50          6   83311          9             13               2   \n",
       "2       38          4  215646         11              9               0   \n",
       "3       53          4  234721          1              7               2   \n",
       "4       28          4  338409          9             13               2   \n",
       "...    ...        ...     ...        ...            ...             ...   \n",
       "32556   27          4  257302          7             12               2   \n",
       "32557   40          4  154374         11              9               2   \n",
       "32558   58          4  151910         11              9               6   \n",
       "32559   22          4  201490         11              9               4   \n",
       "32560   52          5  287927         11              9               2   \n",
       "\n",
       "       occupation  relationship  race  sex  capital-gain  capital-loss  \\\n",
       "0               1             1     4    1          2174             0   \n",
       "1               4             0     4    1             0             0   \n",
       "2               6             1     4    1             0             0   \n",
       "3               6             0     2    1             0             0   \n",
       "4              10             5     2    0             0             0   \n",
       "...           ...           ...   ...  ...           ...           ...   \n",
       "32556          13             5     4    0             0             0   \n",
       "32557           7             0     4    1             0             0   \n",
       "32558           1             4     4    0             0             0   \n",
       "32559           1             3     4    1             0             0   \n",
       "32560           4             5     4    0         15024             0   \n",
       "\n",
       "       hours-per-week  native-country  \n",
       "0                  40              39  \n",
       "1                  13              39  \n",
       "2                  40              39  \n",
       "3                  40              39  \n",
       "4                  40               5  \n",
       "...               ...             ...  \n",
       "32556              38              39  \n",
       "32557              40              39  \n",
       "32558              40              39  \n",
       "32559              20              39  \n",
       "32560              40              39  \n",
       "\n",
       "[32561 rows x 14 columns]"
      ]
     },
     "execution_count": 11,
     "metadata": {},
     "output_type": "execute_result"
    }
   ],
   "source": [
    "X = label_encoder(X)\n",
    "X"
   ]
  },
  {
   "cell_type": "markdown",
   "id": "d1ade5c6-2c6d-4e25-a0f1-5df2cac23cb9",
   "metadata": {},
   "source": [
    "### 1.2 更好的编码方式？\n",
    "\n",
    "- 文本：直接将文本编码成整数的过程，其实损失了大量的语义信息。举例来说，杭州离上海近，离北京远，如果只是进行存粹标签编码的话，整数标签是随机且离散的，无法表达这种三座城市的临近关系。我们可以使用更好的 Embedding 方法，获得更强的表达能力。<!-- 这个我们放在后续章节优化。 -->\n",
    "- `df[col].value_counts()` 太大的情况：可以对数据本身做处理，比如如果是 ip 字段，可以取 ip 前 3 段代替 ip 作为训练特征。可以减少 `value_counts` 的数量，增强模型的稳定性。"
   ]
  },
  {
   "cell_type": "markdown",
   "id": "8da4609e-8704-412a-acf8-ac882c04eda1",
   "metadata": {},
   "source": [
    "## 二、初次训练"
   ]
  },
  {
   "cell_type": "code",
   "execution_count": 12,
   "id": "698d2f57-a35b-4f48-a9b6-03d0bec5a9eb",
   "metadata": {
    "execution": {
     "iopub.execute_input": "2024-07-09T10:09:06.676684Z",
     "iopub.status.busy": "2024-07-09T10:09:06.676072Z",
     "iopub.status.idle": "2024-07-09T10:09:06.686684Z",
     "shell.execute_reply": "2024-07-09T10:09:06.686089Z",
     "shell.execute_reply.started": "2024-07-09T10:09:06.676659Z"
    }
   },
   "outputs": [],
   "source": [
    "# 分割数据集\n",
    "X_train, X_test, y_train, y_test = sklearn.model_selection.train_test_split(X, y, test_size=0.2, random_state=42)"
   ]
  },
  {
   "cell_type": "markdown",
   "id": "382ec6ad-3968-45ee-a197-fc888bfd79f7",
   "metadata": {},
   "source": [
    "### 2.1 使用 `lgb.LGBMClassifier` 进行训练"
   ]
  },
  {
   "cell_type": "code",
   "execution_count": 13,
   "id": "365c0bbc-f24e-41b7-9a76-e50dc0ceff2a",
   "metadata": {
    "execution": {
     "iopub.execute_input": "2024-07-09T10:09:06.687822Z",
     "iopub.status.busy": "2024-07-09T10:09:06.687508Z",
     "iopub.status.idle": "2024-07-09T10:09:06.894663Z",
     "shell.execute_reply": "2024-07-09T10:09:06.893797Z",
     "shell.execute_reply.started": "2024-07-09T10:09:06.687800Z"
    }
   },
   "outputs": [
    {
     "data": {
      "text/html": [
       "<style>#sk-container-id-1 {\n",
       "  /* Definition of color scheme common for light and dark mode */\n",
       "  --sklearn-color-text: black;\n",
       "  --sklearn-color-line: gray;\n",
       "  /* Definition of color scheme for unfitted estimators */\n",
       "  --sklearn-color-unfitted-level-0: #fff5e6;\n",
       "  --sklearn-color-unfitted-level-1: #f6e4d2;\n",
       "  --sklearn-color-unfitted-level-2: #ffe0b3;\n",
       "  --sklearn-color-unfitted-level-3: chocolate;\n",
       "  /* Definition of color scheme for fitted estimators */\n",
       "  --sklearn-color-fitted-level-0: #f0f8ff;\n",
       "  --sklearn-color-fitted-level-1: #d4ebff;\n",
       "  --sklearn-color-fitted-level-2: #b3dbfd;\n",
       "  --sklearn-color-fitted-level-3: cornflowerblue;\n",
       "\n",
       "  /* Specific color for light theme */\n",
       "  --sklearn-color-text-on-default-background: var(--sg-text-color, var(--theme-code-foreground, var(--jp-content-font-color1, black)));\n",
       "  --sklearn-color-background: var(--sg-background-color, var(--theme-background, var(--jp-layout-color0, white)));\n",
       "  --sklearn-color-border-box: var(--sg-text-color, var(--theme-code-foreground, var(--jp-content-font-color1, black)));\n",
       "  --sklearn-color-icon: #696969;\n",
       "\n",
       "  @media (prefers-color-scheme: dark) {\n",
       "    /* Redefinition of color scheme for dark theme */\n",
       "    --sklearn-color-text-on-default-background: var(--sg-text-color, var(--theme-code-foreground, var(--jp-content-font-color1, white)));\n",
       "    --sklearn-color-background: var(--sg-background-color, var(--theme-background, var(--jp-layout-color0, #111)));\n",
       "    --sklearn-color-border-box: var(--sg-text-color, var(--theme-code-foreground, var(--jp-content-font-color1, white)));\n",
       "    --sklearn-color-icon: #878787;\n",
       "  }\n",
       "}\n",
       "\n",
       "#sk-container-id-1 {\n",
       "  color: var(--sklearn-color-text);\n",
       "}\n",
       "\n",
       "#sk-container-id-1 pre {\n",
       "  padding: 0;\n",
       "}\n",
       "\n",
       "#sk-container-id-1 input.sk-hidden--visually {\n",
       "  border: 0;\n",
       "  clip: rect(1px 1px 1px 1px);\n",
       "  clip: rect(1px, 1px, 1px, 1px);\n",
       "  height: 1px;\n",
       "  margin: -1px;\n",
       "  overflow: hidden;\n",
       "  padding: 0;\n",
       "  position: absolute;\n",
       "  width: 1px;\n",
       "}\n",
       "\n",
       "#sk-container-id-1 div.sk-dashed-wrapped {\n",
       "  border: 1px dashed var(--sklearn-color-line);\n",
       "  margin: 0 0.4em 0.5em 0.4em;\n",
       "  box-sizing: border-box;\n",
       "  padding-bottom: 0.4em;\n",
       "  background-color: var(--sklearn-color-background);\n",
       "}\n",
       "\n",
       "#sk-container-id-1 div.sk-container {\n",
       "  /* jupyter's `normalize.less` sets `[hidden] { display: none; }`\n",
       "     but bootstrap.min.css set `[hidden] { display: none !important; }`\n",
       "     so we also need the `!important` here to be able to override the\n",
       "     default hidden behavior on the sphinx rendered scikit-learn.org.\n",
       "     See: https://github.com/scikit-learn/scikit-learn/issues/21755 */\n",
       "  display: inline-block !important;\n",
       "  position: relative;\n",
       "}\n",
       "\n",
       "#sk-container-id-1 div.sk-text-repr-fallback {\n",
       "  display: none;\n",
       "}\n",
       "\n",
       "div.sk-parallel-item,\n",
       "div.sk-serial,\n",
       "div.sk-item {\n",
       "  /* draw centered vertical line to link estimators */\n",
       "  background-image: linear-gradient(var(--sklearn-color-text-on-default-background), var(--sklearn-color-text-on-default-background));\n",
       "  background-size: 2px 100%;\n",
       "  background-repeat: no-repeat;\n",
       "  background-position: center center;\n",
       "}\n",
       "\n",
       "/* Parallel-specific style estimator block */\n",
       "\n",
       "#sk-container-id-1 div.sk-parallel-item::after {\n",
       "  content: \"\";\n",
       "  width: 100%;\n",
       "  border-bottom: 2px solid var(--sklearn-color-text-on-default-background);\n",
       "  flex-grow: 1;\n",
       "}\n",
       "\n",
       "#sk-container-id-1 div.sk-parallel {\n",
       "  display: flex;\n",
       "  align-items: stretch;\n",
       "  justify-content: center;\n",
       "  background-color: var(--sklearn-color-background);\n",
       "  position: relative;\n",
       "}\n",
       "\n",
       "#sk-container-id-1 div.sk-parallel-item {\n",
       "  display: flex;\n",
       "  flex-direction: column;\n",
       "}\n",
       "\n",
       "#sk-container-id-1 div.sk-parallel-item:first-child::after {\n",
       "  align-self: flex-end;\n",
       "  width: 50%;\n",
       "}\n",
       "\n",
       "#sk-container-id-1 div.sk-parallel-item:last-child::after {\n",
       "  align-self: flex-start;\n",
       "  width: 50%;\n",
       "}\n",
       "\n",
       "#sk-container-id-1 div.sk-parallel-item:only-child::after {\n",
       "  width: 0;\n",
       "}\n",
       "\n",
       "/* Serial-specific style estimator block */\n",
       "\n",
       "#sk-container-id-1 div.sk-serial {\n",
       "  display: flex;\n",
       "  flex-direction: column;\n",
       "  align-items: center;\n",
       "  background-color: var(--sklearn-color-background);\n",
       "  padding-right: 1em;\n",
       "  padding-left: 1em;\n",
       "}\n",
       "\n",
       "\n",
       "/* Toggleable style: style used for estimator/Pipeline/ColumnTransformer box that is\n",
       "clickable and can be expanded/collapsed.\n",
       "- Pipeline and ColumnTransformer use this feature and define the default style\n",
       "- Estimators will overwrite some part of the style using the `sk-estimator` class\n",
       "*/\n",
       "\n",
       "/* Pipeline and ColumnTransformer style (default) */\n",
       "\n",
       "#sk-container-id-1 div.sk-toggleable {\n",
       "  /* Default theme specific background. It is overwritten whether we have a\n",
       "  specific estimator or a Pipeline/ColumnTransformer */\n",
       "  background-color: var(--sklearn-color-background);\n",
       "}\n",
       "\n",
       "/* Toggleable label */\n",
       "#sk-container-id-1 label.sk-toggleable__label {\n",
       "  cursor: pointer;\n",
       "  display: block;\n",
       "  width: 100%;\n",
       "  margin-bottom: 0;\n",
       "  padding: 0.5em;\n",
       "  box-sizing: border-box;\n",
       "  text-align: center;\n",
       "}\n",
       "\n",
       "#sk-container-id-1 label.sk-toggleable__label-arrow:before {\n",
       "  /* Arrow on the left of the label */\n",
       "  content: \"▸\";\n",
       "  float: left;\n",
       "  margin-right: 0.25em;\n",
       "  color: var(--sklearn-color-icon);\n",
       "}\n",
       "\n",
       "#sk-container-id-1 label.sk-toggleable__label-arrow:hover:before {\n",
       "  color: var(--sklearn-color-text);\n",
       "}\n",
       "\n",
       "/* Toggleable content - dropdown */\n",
       "\n",
       "#sk-container-id-1 div.sk-toggleable__content {\n",
       "  max-height: 0;\n",
       "  max-width: 0;\n",
       "  overflow: hidden;\n",
       "  text-align: left;\n",
       "  /* unfitted */\n",
       "  background-color: var(--sklearn-color-unfitted-level-0);\n",
       "}\n",
       "\n",
       "#sk-container-id-1 div.sk-toggleable__content.fitted {\n",
       "  /* fitted */\n",
       "  background-color: var(--sklearn-color-fitted-level-0);\n",
       "}\n",
       "\n",
       "#sk-container-id-1 div.sk-toggleable__content pre {\n",
       "  margin: 0.2em;\n",
       "  border-radius: 0.25em;\n",
       "  color: var(--sklearn-color-text);\n",
       "  /* unfitted */\n",
       "  background-color: var(--sklearn-color-unfitted-level-0);\n",
       "}\n",
       "\n",
       "#sk-container-id-1 div.sk-toggleable__content.fitted pre {\n",
       "  /* unfitted */\n",
       "  background-color: var(--sklearn-color-fitted-level-0);\n",
       "}\n",
       "\n",
       "#sk-container-id-1 input.sk-toggleable__control:checked~div.sk-toggleable__content {\n",
       "  /* Expand drop-down */\n",
       "  max-height: 200px;\n",
       "  max-width: 100%;\n",
       "  overflow: auto;\n",
       "}\n",
       "\n",
       "#sk-container-id-1 input.sk-toggleable__control:checked~label.sk-toggleable__label-arrow:before {\n",
       "  content: \"▾\";\n",
       "}\n",
       "\n",
       "/* Pipeline/ColumnTransformer-specific style */\n",
       "\n",
       "#sk-container-id-1 div.sk-label input.sk-toggleable__control:checked~label.sk-toggleable__label {\n",
       "  color: var(--sklearn-color-text);\n",
       "  background-color: var(--sklearn-color-unfitted-level-2);\n",
       "}\n",
       "\n",
       "#sk-container-id-1 div.sk-label.fitted input.sk-toggleable__control:checked~label.sk-toggleable__label {\n",
       "  background-color: var(--sklearn-color-fitted-level-2);\n",
       "}\n",
       "\n",
       "/* Estimator-specific style */\n",
       "\n",
       "/* Colorize estimator box */\n",
       "#sk-container-id-1 div.sk-estimator input.sk-toggleable__control:checked~label.sk-toggleable__label {\n",
       "  /* unfitted */\n",
       "  background-color: var(--sklearn-color-unfitted-level-2);\n",
       "}\n",
       "\n",
       "#sk-container-id-1 div.sk-estimator.fitted input.sk-toggleable__control:checked~label.sk-toggleable__label {\n",
       "  /* fitted */\n",
       "  background-color: var(--sklearn-color-fitted-level-2);\n",
       "}\n",
       "\n",
       "#sk-container-id-1 div.sk-label label.sk-toggleable__label,\n",
       "#sk-container-id-1 div.sk-label label {\n",
       "  /* The background is the default theme color */\n",
       "  color: var(--sklearn-color-text-on-default-background);\n",
       "}\n",
       "\n",
       "/* On hover, darken the color of the background */\n",
       "#sk-container-id-1 div.sk-label:hover label.sk-toggleable__label {\n",
       "  color: var(--sklearn-color-text);\n",
       "  background-color: var(--sklearn-color-unfitted-level-2);\n",
       "}\n",
       "\n",
       "/* Label box, darken color on hover, fitted */\n",
       "#sk-container-id-1 div.sk-label.fitted:hover label.sk-toggleable__label.fitted {\n",
       "  color: var(--sklearn-color-text);\n",
       "  background-color: var(--sklearn-color-fitted-level-2);\n",
       "}\n",
       "\n",
       "/* Estimator label */\n",
       "\n",
       "#sk-container-id-1 div.sk-label label {\n",
       "  font-family: monospace;\n",
       "  font-weight: bold;\n",
       "  display: inline-block;\n",
       "  line-height: 1.2em;\n",
       "}\n",
       "\n",
       "#sk-container-id-1 div.sk-label-container {\n",
       "  text-align: center;\n",
       "}\n",
       "\n",
       "/* Estimator-specific */\n",
       "#sk-container-id-1 div.sk-estimator {\n",
       "  font-family: monospace;\n",
       "  border: 1px dotted var(--sklearn-color-border-box);\n",
       "  border-radius: 0.25em;\n",
       "  box-sizing: border-box;\n",
       "  margin-bottom: 0.5em;\n",
       "  /* unfitted */\n",
       "  background-color: var(--sklearn-color-unfitted-level-0);\n",
       "}\n",
       "\n",
       "#sk-container-id-1 div.sk-estimator.fitted {\n",
       "  /* fitted */\n",
       "  background-color: var(--sklearn-color-fitted-level-0);\n",
       "}\n",
       "\n",
       "/* on hover */\n",
       "#sk-container-id-1 div.sk-estimator:hover {\n",
       "  /* unfitted */\n",
       "  background-color: var(--sklearn-color-unfitted-level-2);\n",
       "}\n",
       "\n",
       "#sk-container-id-1 div.sk-estimator.fitted:hover {\n",
       "  /* fitted */\n",
       "  background-color: var(--sklearn-color-fitted-level-2);\n",
       "}\n",
       "\n",
       "/* Specification for estimator info (e.g. \"i\" and \"?\") */\n",
       "\n",
       "/* Common style for \"i\" and \"?\" */\n",
       "\n",
       ".sk-estimator-doc-link,\n",
       "a:link.sk-estimator-doc-link,\n",
       "a:visited.sk-estimator-doc-link {\n",
       "  float: right;\n",
       "  font-size: smaller;\n",
       "  line-height: 1em;\n",
       "  font-family: monospace;\n",
       "  background-color: var(--sklearn-color-background);\n",
       "  border-radius: 1em;\n",
       "  height: 1em;\n",
       "  width: 1em;\n",
       "  text-decoration: none !important;\n",
       "  margin-left: 1ex;\n",
       "  /* unfitted */\n",
       "  border: var(--sklearn-color-unfitted-level-1) 1pt solid;\n",
       "  color: var(--sklearn-color-unfitted-level-1);\n",
       "}\n",
       "\n",
       ".sk-estimator-doc-link.fitted,\n",
       "a:link.sk-estimator-doc-link.fitted,\n",
       "a:visited.sk-estimator-doc-link.fitted {\n",
       "  /* fitted */\n",
       "  border: var(--sklearn-color-fitted-level-1) 1pt solid;\n",
       "  color: var(--sklearn-color-fitted-level-1);\n",
       "}\n",
       "\n",
       "/* On hover */\n",
       "div.sk-estimator:hover .sk-estimator-doc-link:hover,\n",
       ".sk-estimator-doc-link:hover,\n",
       "div.sk-label-container:hover .sk-estimator-doc-link:hover,\n",
       ".sk-estimator-doc-link:hover {\n",
       "  /* unfitted */\n",
       "  background-color: var(--sklearn-color-unfitted-level-3);\n",
       "  color: var(--sklearn-color-background);\n",
       "  text-decoration: none;\n",
       "}\n",
       "\n",
       "div.sk-estimator.fitted:hover .sk-estimator-doc-link.fitted:hover,\n",
       ".sk-estimator-doc-link.fitted:hover,\n",
       "div.sk-label-container:hover .sk-estimator-doc-link.fitted:hover,\n",
       ".sk-estimator-doc-link.fitted:hover {\n",
       "  /* fitted */\n",
       "  background-color: var(--sklearn-color-fitted-level-3);\n",
       "  color: var(--sklearn-color-background);\n",
       "  text-decoration: none;\n",
       "}\n",
       "\n",
       "/* Span, style for the box shown on hovering the info icon */\n",
       ".sk-estimator-doc-link span {\n",
       "  display: none;\n",
       "  z-index: 9999;\n",
       "  position: relative;\n",
       "  font-weight: normal;\n",
       "  right: .2ex;\n",
       "  padding: .5ex;\n",
       "  margin: .5ex;\n",
       "  width: min-content;\n",
       "  min-width: 20ex;\n",
       "  max-width: 50ex;\n",
       "  color: var(--sklearn-color-text);\n",
       "  box-shadow: 2pt 2pt 4pt #999;\n",
       "  /* unfitted */\n",
       "  background: var(--sklearn-color-unfitted-level-0);\n",
       "  border: .5pt solid var(--sklearn-color-unfitted-level-3);\n",
       "}\n",
       "\n",
       ".sk-estimator-doc-link.fitted span {\n",
       "  /* fitted */\n",
       "  background: var(--sklearn-color-fitted-level-0);\n",
       "  border: var(--sklearn-color-fitted-level-3);\n",
       "}\n",
       "\n",
       ".sk-estimator-doc-link:hover span {\n",
       "  display: block;\n",
       "}\n",
       "\n",
       "/* \"?\"-specific style due to the `<a>` HTML tag */\n",
       "\n",
       "#sk-container-id-1 a.estimator_doc_link {\n",
       "  float: right;\n",
       "  font-size: 1rem;\n",
       "  line-height: 1em;\n",
       "  font-family: monospace;\n",
       "  background-color: var(--sklearn-color-background);\n",
       "  border-radius: 1rem;\n",
       "  height: 1rem;\n",
       "  width: 1rem;\n",
       "  text-decoration: none;\n",
       "  /* unfitted */\n",
       "  color: var(--sklearn-color-unfitted-level-1);\n",
       "  border: var(--sklearn-color-unfitted-level-1) 1pt solid;\n",
       "}\n",
       "\n",
       "#sk-container-id-1 a.estimator_doc_link.fitted {\n",
       "  /* fitted */\n",
       "  border: var(--sklearn-color-fitted-level-1) 1pt solid;\n",
       "  color: var(--sklearn-color-fitted-level-1);\n",
       "}\n",
       "\n",
       "/* On hover */\n",
       "#sk-container-id-1 a.estimator_doc_link:hover {\n",
       "  /* unfitted */\n",
       "  background-color: var(--sklearn-color-unfitted-level-3);\n",
       "  color: var(--sklearn-color-background);\n",
       "  text-decoration: none;\n",
       "}\n",
       "\n",
       "#sk-container-id-1 a.estimator_doc_link.fitted:hover {\n",
       "  /* fitted */\n",
       "  background-color: var(--sklearn-color-fitted-level-3);\n",
       "}\n",
       "</style><div id=\"sk-container-id-1\" class=\"sk-top-container\"><div class=\"sk-text-repr-fallback\"><pre>LGBMClassifier(colsample_bytree=0.8, learning_rate=0.05,\n",
       "               metric=&#x27;binary_logloss&#x27;, objective=&#x27;binary&#x27;, subgroup=0.8,\n",
       "               subsample=0.8, verbose=-1)</pre><b>In a Jupyter environment, please rerun this cell to show the HTML representation or trust the notebook. <br />On GitHub, the HTML representation is unable to render, please try loading this page with nbviewer.org.</b></div><div class=\"sk-container\" hidden><div class=\"sk-item\"><div class=\"sk-estimator fitted sk-toggleable\"><input class=\"sk-toggleable__control sk-hidden--visually\" id=\"sk-estimator-id-1\" type=\"checkbox\" checked><label for=\"sk-estimator-id-1\" class=\"sk-toggleable__label fitted sk-toggleable__label-arrow fitted\">&nbsp;LGBMClassifier<span class=\"sk-estimator-doc-link fitted\">i<span>Fitted</span></span></label><div class=\"sk-toggleable__content fitted\"><pre>LGBMClassifier(colsample_bytree=0.8, learning_rate=0.05,\n",
       "               metric=&#x27;binary_logloss&#x27;, objective=&#x27;binary&#x27;, subgroup=0.8,\n",
       "               subsample=0.8, verbose=-1)</pre></div> </div></div></div></div>"
      ],
      "text/plain": [
       "LGBMClassifier(colsample_bytree=0.8, learning_rate=0.05,\n",
       "               metric='binary_logloss', objective='binary', subgroup=0.8,\n",
       "               subsample=0.8, verbose=-1)"
      ]
     },
     "execution_count": 13,
     "metadata": {},
     "output_type": "execute_result"
    }
   ],
   "source": [
    "params = {\n",
    "    'objective': 'binary',  # 二分类的目标函数\n",
    "    'num_leaves': 31,       # 叶子节点的最大数量\n",
    "    'max_depth': -1,       # 让模型决定树的最大深度\n",
    "    'learning_rate': 0.05,  # 学习率\n",
    "    'n_estimators': 100,    # boosting 阶段的数量\n",
    "    'subsample': 0.8,      # 训练每棵树时的采样比例\n",
    "    'subgroup': 0.8,       # 训练每棵树时的特征采样比例\n",
    "    'colsample_bytree': 0.8,# 构建树时的列采样比例\n",
    "    'min_child_samples': 20,# 分割叶子节点所需的最小样本数\n",
    "    'metric': 'binary_logloss',  # 评估指标\n",
    "    'boosting_type': 'gbdt',  # boosting策略\n",
    "    'verbose': -1\n",
    "}\n",
    "\n",
    "# 创建LGBMClassifier实例\n",
    "clf = lgb.LGBMClassifier(**params)\n",
    "\n",
    "# 训练模型\n",
    "clf.fit(X_train, y_train, eval_set=[(X_test, y_test)])"
   ]
  },
  {
   "cell_type": "code",
   "execution_count": 14,
   "id": "bb55929a-4f95-485b-aad8-7d6d378e31ee",
   "metadata": {
    "execution": {
     "iopub.execute_input": "2024-07-09T10:09:06.896624Z",
     "iopub.status.busy": "2024-07-09T10:09:06.896187Z",
     "iopub.status.idle": "2024-07-09T10:09:06.921272Z",
     "shell.execute_reply": "2024-07-09T10:09:06.920539Z",
     "shell.execute_reply.started": "2024-07-09T10:09:06.896588Z"
    }
   },
   "outputs": [
    {
     "data": {
      "text/plain": [
       "array([0, 0, 1, ..., 1, 0, 0])"
      ]
     },
     "execution_count": 14,
     "metadata": {},
     "output_type": "execute_result"
    }
   ],
   "source": [
    "# predict\n",
    "y_pred_clf = clf.predict(X_test)\n",
    "y_pred_clf"
   ]
  },
  {
   "cell_type": "code",
   "execution_count": 15,
   "id": "a84cf914-30fd-4064-8947-cbbbac7680b9",
   "metadata": {
    "execution": {
     "iopub.execute_input": "2024-07-09T10:09:06.923216Z",
     "iopub.status.busy": "2024-07-09T10:09:06.922558Z",
     "iopub.status.idle": "2024-07-09T10:09:06.950997Z",
     "shell.execute_reply": "2024-07-09T10:09:06.950122Z",
     "shell.execute_reply.started": "2024-07-09T10:09:06.923171Z"
    }
   },
   "outputs": [
    {
     "name": "stdout",
     "output_type": "stream",
     "text": [
      "accuracy: 0.87748\n",
      "precision: 0.79754\n",
      "recall: 0.65945\n",
      "f1_score: 0.72195\n",
      "True Positive (TP): 1036\n",
      "True Negative (TN): 4679\n",
      "False Positive (FP): 263\n",
      "False Negative (FN): 535\n",
      "confusion matrix:\n",
      "[[4679  263]\n",
      " [ 535 1036]]\n"
     ]
    }
   ],
   "source": [
    "# evaluate\n",
    "acc = sklearn.metrics.accuracy_score(y_true=y_test, y_pred=y_pred_clf)\n",
    "precision = sklearn.metrics.precision_score(y_true=y_test, y_pred=y_pred_clf)\n",
    "recall = sklearn.metrics.recall_score(y_true=y_test, y_pred=y_pred_clf)\n",
    "f1 = sklearn.metrics.f1_score(y_true=y_test, y_pred=y_pred_clf)\n",
    "cm = sklearn.metrics.confusion_matrix(y_true=y_test, y_pred=y_pred_clf)\n",
    "tn, fp, fn, tp = cm.ravel()\n",
    "\n",
    "\n",
    "print(f'accuracy: {acc:.5f}')\n",
    "print(f'precision: {precision:.5f}')\n",
    "print(f'recall: {recall:.5f}')\n",
    "print(f'f1_score: {f1:.5f}')\n",
    "print(f'True Positive (TP): {tp}')\n",
    "print(f'True Negative (TN): {tn}')\n",
    "print(f'False Positive (FP): {fp}')\n",
    "print(f'False Negative (FN): {fn}')\n",
    "print(f'confusion matrix:\\n{cm}')"
   ]
  },
  {
   "cell_type": "code",
   "execution_count": 16,
   "id": "d43fd0b4-ae57-4c26-90a0-2755590839a1",
   "metadata": {
    "execution": {
     "iopub.execute_input": "2024-07-09T10:09:06.953444Z",
     "iopub.status.busy": "2024-07-09T10:09:06.952492Z",
     "iopub.status.idle": "2024-07-09T10:09:06.968609Z",
     "shell.execute_reply": "2024-07-09T10:09:06.967511Z",
     "shell.execute_reply.started": "2024-07-09T10:09:06.953394Z"
    }
   },
   "outputs": [],
   "source": [
    "# 将 lgb.LGBMClassifier 保存成 joblib 文件\n",
    "joblib_path = util.gen_abspath(DIRECTORY, JOBLIB_FILE)\n",
    "_ = joblib.dump(clf, joblib_path)"
   ]
  },
  {
   "cell_type": "markdown",
   "id": "6f7d9b25-3a63-48f6-9a6f-abd89e5a4443",
   "metadata": {},
   "source": [
    "### 2.2 使用原生 API 进行训练"
   ]
  },
  {
   "cell_type": "code",
   "execution_count": 17,
   "id": "cd00dc2a-03c0-4777-9f03-ec59801469ab",
   "metadata": {
    "execution": {
     "iopub.execute_input": "2024-07-09T10:09:06.969997Z",
     "iopub.status.busy": "2024-07-09T10:09:06.969669Z",
     "iopub.status.idle": "2024-07-09T10:09:06.975628Z",
     "shell.execute_reply": "2024-07-09T10:09:06.974432Z",
     "shell.execute_reply.started": "2024-07-09T10:09:06.969973Z"
    }
   },
   "outputs": [],
   "source": [
    "# prepare dataset\n",
    "lgb_train = lgb.Dataset(X_train,\n",
    "                        y_train,\n",
    "                        categorical_feature=cat_feats, \n",
    "                        free_raw_data=True)\n",
    "lgb_eval = lgb.Dataset(X_test,\n",
    "                    y_test,\n",
    "                    reference=lgb_train,\n",
    "                    categorical_feature=cat_feats, \n",
    "                    free_raw_data=True)"
   ]
  },
  {
   "cell_type": "code",
   "execution_count": 18,
   "id": "1f2bacd5-77e3-4156-853b-3384c28deab8",
   "metadata": {
    "execution": {
     "iopub.execute_input": "2024-07-09T10:09:06.977786Z",
     "iopub.status.busy": "2024-07-09T10:09:06.976990Z",
     "iopub.status.idle": "2024-07-09T10:09:06.982851Z",
     "shell.execute_reply": "2024-07-09T10:09:06.981495Z",
     "shell.execute_reply.started": "2024-07-09T10:09:06.977722Z"
    }
   },
   "outputs": [],
   "source": [
    "evals_result = {}  # to record eval results for plotting\n",
    "params = {\n",
    "    \"objective\": \"binary\",\n",
    "    \"boosting_type\": \"gbdt\",\n",
    "    \"metric\": 'auc',\n",
    "    \"num_leaves\": 31,\n",
    "    \"learning_rate\": 0.05,\n",
    "    \"feature_fraction\": 0.9,\n",
    "    \"bagging_fraction\": 0.8,\n",
    "    \"bagging_freq\": 5,\n",
    "    \"verbose\": 1\n",
    "}"
   ]
  },
  {
   "cell_type": "markdown",
   "id": "f424f529-c6a8-44f3-a596-29c3d5be4cc4",
   "metadata": {},
   "source": [
    "由上一个 notebook 我们知道样本数据的标号有比较严重的倾斜。\n",
    "\n",
    "```\n",
    "income <= 50K:  24720\n",
    "income > 50K:  7841\n",
    "```\n",
    "\n",
    "可以通过对样本进行 上采样、下采样，或者用 `scale_pos_weight` 参数来修正样本数据倾斜。"
   ]
  },
  {
   "cell_type": "code",
   "execution_count": 19,
   "id": "5db91ce6-a744-43e5-982d-18bd78b672c9",
   "metadata": {
    "execution": {
     "iopub.execute_input": "2024-07-09T10:09:06.984797Z",
     "iopub.status.busy": "2024-07-09T10:09:06.984181Z",
     "iopub.status.idle": "2024-07-09T10:09:06.998007Z",
     "shell.execute_reply": "2024-07-09T10:09:06.996672Z",
     "shell.execute_reply.started": "2024-07-09T10:09:06.984763Z"
    }
   },
   "outputs": [
    {
     "name": "stdout",
     "output_type": "stream",
     "text": [
      "Warning: Sample imbalance, set scale_pos_weight=3.154\n"
     ]
    }
   ],
   "source": [
    "# 处理样本数据倾斜\n",
    "positive_ratio = sum(y_train) / len(y_train)\n",
    "tolerance = 0.1\n",
    "if positive_ratio > 0.5 + tolerance or positive_ratio < 0.5 - tolerance:\n",
    "    # if dataset is highly imbalanced\n",
    "    weight = util.gen_scale_pos_weight(y_train)\n",
    "    params[\"scale_pos_weight\"] = weight\n",
    "    print(f\"Warning: Sample imbalance, set scale_pos_weight={weight:.3f}\")"
   ]
  },
  {
   "cell_type": "code",
   "execution_count": 20,
   "id": "35ba6371-b72f-4eac-bc61-33564687a45f",
   "metadata": {
    "execution": {
     "iopub.execute_input": "2024-07-09T10:09:07.000033Z",
     "iopub.status.busy": "2024-07-09T10:09:06.999372Z",
     "iopub.status.idle": "2024-07-09T10:09:07.297436Z",
     "shell.execute_reply": "2024-07-09T10:09:07.296691Z",
     "shell.execute_reply.started": "2024-07-09T10:09:06.999950Z"
    }
   },
   "outputs": [
    {
     "name": "stdout",
     "output_type": "stream",
     "text": [
      "[LightGBM] [Info] Number of positive: 6270, number of negative: 19778\n",
      "[LightGBM] [Info] Auto-choosing row-wise multi-threading, the overhead of testing was 0.000944 seconds.\n",
      "You can set `force_row_wise=true` to remove the overhead.\n",
      "And if memory is not enough, you can set `force_col_wise=true`.\n",
      "[LightGBM] [Info] Total Bins 695\n",
      "[LightGBM] [Info] Number of data points in the train set: 26048, number of used features: 14\n",
      "[LightGBM] [Info] [binary:BoostFromScore]: pavg=0.240709 -> initscore=-1.148794\n",
      "[LightGBM] [Info] Start training from score -1.148794\n",
      "Training until validation scores don't improve for 5 rounds\n",
      "[10]\tvalid_0's auc: 0.913466\n",
      "[20]\tvalid_0's auc: 0.917998\n",
      "[30]\tvalid_0's auc: 0.920509\n",
      "[40]\tvalid_0's auc: 0.92282\n",
      "[50]\tvalid_0's auc: 0.924088\n",
      "[60]\tvalid_0's auc: 0.925256\n",
      "[70]\tvalid_0's auc: 0.926815\n",
      "[80]\tvalid_0's auc: 0.928022\n",
      "[90]\tvalid_0's auc: 0.928385\n",
      "[100]\tvalid_0's auc: 0.929098\n",
      "[110]\tvalid_0's auc: 0.929604\n",
      "[120]\tvalid_0's auc: 0.929643\n",
      "Did not meet early stopping. Best iteration is:\n",
      "[116]\tvalid_0's auc: 0.929727\n"
     ]
    }
   ],
   "source": [
    "# train\n",
    "gbm = lgb.train(params,\n",
    "                lgb_train,\n",
    "                num_boost_round=120,\n",
    "                valid_sets=lgb_eval,\n",
    "                callbacks=[lgb.early_stopping(stopping_rounds=5),\n",
    "                           lgb.log_evaluation(10),\n",
    "                           lgb.record_evaluation(evals_result)],\n",
    "                categorical_feature=cat_feats\n",
    ")"
   ]
  },
  {
   "cell_type": "code",
   "execution_count": 21,
   "id": "e15e34aa-e5bc-44ee-b093-7e3c60fca2ab",
   "metadata": {
    "execution": {
     "iopub.execute_input": "2024-07-09T10:09:07.299617Z",
     "iopub.status.busy": "2024-07-09T10:09:07.299170Z",
     "iopub.status.idle": "2024-07-09T10:09:07.555105Z",
     "shell.execute_reply": "2024-07-09T10:09:07.554069Z",
     "shell.execute_reply.started": "2024-07-09T10:09:07.299587Z"
    }
   },
   "outputs": [
    {
     "data": {
      "image/png": "[encoded data removed]",
      "text/plain": [
       "<Figure size 640x480 with 1 Axes>"
      ]
     },
     "metadata": {},
     "output_type": "display_data"
    }
   ],
   "source": [
    "# AUC 随训练迭代次数变化曲线\n",
    "ax = lgb.plot_metric(evals_result, metric=\"auc\")\n",
    "plt.show()"
   ]
  },
  {
   "cell_type": "code",
   "execution_count": 22,
   "id": "355eabab-10dc-46e5-889e-574cd021b8d5",
   "metadata": {
    "execution": {
     "iopub.execute_input": "2024-07-09T10:09:07.556778Z",
     "iopub.status.busy": "2024-07-09T10:09:07.556425Z",
     "iopub.status.idle": "2024-07-09T10:09:07.578945Z",
     "shell.execute_reply": "2024-07-09T10:09:07.578146Z",
     "shell.execute_reply.started": "2024-07-09T10:09:07.556757Z"
    }
   },
   "outputs": [
    {
     "data": {
      "text/plain": [
       "array([0.02348815, 0.69584045, 0.84949065, ..., 0.99375852, 0.02165435,\n",
       "       0.00361387])"
      ]
     },
     "execution_count": 22,
     "metadata": {},
     "output_type": "execute_result"
    }
   ],
   "source": [
    "# predict\n",
    "y_pred = gbm.predict(X_test)\n",
    "y_pred"
   ]
  },
  {
   "cell_type": "markdown",
   "id": "a561b101-85f7-4206-b3c5-fef2746a0911",
   "metadata": {},
   "source": [
    "## 三、简单评估"
   ]
  },
  {
   "cell_type": "code",
   "execution_count": 23,
   "id": "a4925b8e-3cfd-4f67-a0bf-c6a1f5b33f13",
   "metadata": {
    "execution": {
     "iopub.execute_input": "2024-07-09T10:09:07.580656Z",
     "iopub.status.busy": "2024-07-09T10:09:07.580184Z",
     "iopub.status.idle": "2024-07-09T10:09:07.783507Z",
     "shell.execute_reply": "2024-07-09T10:09:07.782275Z",
     "shell.execute_reply.started": "2024-07-09T10:09:07.580601Z"
    }
   },
   "outputs": [
    {
     "name": "stdout",
     "output_type": "stream",
     "text": [
      "AUC: 0.92973\n"
     ]
    },
    {
     "data": {
      "image/png": "[encoded data removed]",
      "text/plain": [
       "<Figure size 800x600 with 1 Axes>"
      ]
     },
     "metadata": {},
     "output_type": "display_data"
    }
   ],
   "source": [
    "# AUC, ROC Curve\n",
    "util.roc_curve(y_true=y_test, y_score=y_pred)"
   ]
  },
  {
   "cell_type": "code",
   "execution_count": 24,
   "id": "8a4a3e5f-d46b-4fc9-884c-40794027a507",
   "metadata": {
    "execution": {
     "iopub.execute_input": "2024-07-09T10:09:07.793058Z",
     "iopub.status.busy": "2024-07-09T10:09:07.792713Z",
     "iopub.status.idle": "2024-07-09T10:09:07.800920Z",
     "shell.execute_reply": "2024-07-09T10:09:07.799214Z",
     "shell.execute_reply.started": "2024-07-09T10:09:07.793035Z"
    }
   },
   "outputs": [
    {
     "data": {
      "text/plain": [
       "0.11018695191861091"
      ]
     },
     "execution_count": 24,
     "metadata": {},
     "output_type": "execute_result"
    }
   ],
   "source": [
    "# MSE\n",
    "sklearn.metrics.mean_squared_error(y_true=y_test, y_pred=y_pred)"
   ]
  },
  {
   "cell_type": "markdown",
   "id": "0a4cf9de-8f0c-4f5a-a568-57e71c919d55",
   "metadata": {},
   "source": [
    "## 四、模型存储与导入\n",
    "\n",
    "### 4.1 模型存储\n",
    "\n",
    "将模型文件存储到 `model_path` 路径下"
   ]
  },
  {
   "cell_type": "code",
   "execution_count": 25,
   "id": "6949760a-5170-4094-9186-46233a1d09d1",
   "metadata": {
    "execution": {
     "iopub.execute_input": "2024-07-09T10:09:07.802461Z",
     "iopub.status.busy": "2024-07-09T10:09:07.802193Z",
     "iopub.status.idle": "2024-07-09T10:09:07.813645Z",
     "shell.execute_reply": "2024-07-09T10:09:07.812726Z",
     "shell.execute_reply.started": "2024-07-09T10:09:07.802439Z"
    }
   },
   "outputs": [
    {
     "data": {
      "text/plain": [
       "<lightgbm.basic.Booster at 0x7fc634e0f520>"
      ]
     },
     "execution_count": 25,
     "metadata": {},
     "output_type": "execute_result"
    }
   ],
   "source": [
    "model_path = util.gen_abspath(DIRECTORY, MODEL_FILE)\n",
    "gbm.save_model(model_path)"
   ]
  },
  {
   "cell_type": "markdown",
   "id": "c6a005bf-3376-44e6-b2c5-b97b850772ed",
   "metadata": {},
   "source": [
    "### 4.2 模型导入\n",
    "\n",
    "删除 gbm 后，重新从模型文件载入"
   ]
  },
  {
   "cell_type": "code",
   "execution_count": 26,
   "id": "c82aff43-13a0-49e4-8218-a2d0f31aeb35",
   "metadata": {
    "execution": {
     "iopub.execute_input": "2024-07-09T10:09:07.815351Z",
     "iopub.status.busy": "2024-07-09T10:09:07.814921Z",
     "iopub.status.idle": "2024-07-09T10:09:07.833757Z",
     "shell.execute_reply": "2024-07-09T10:09:07.832892Z",
     "shell.execute_reply.started": "2024-07-09T10:09:07.815317Z"
    }
   },
   "outputs": [],
   "source": [
    "bst = lgb.Booster(model_file=model_path)"
   ]
  },
  {
   "cell_type": "code",
   "execution_count": 27,
   "id": "07584469-500c-4ba3-bffd-d04925c1865b",
   "metadata": {
    "execution": {
     "iopub.execute_input": "2024-07-09T10:09:07.835649Z",
     "iopub.status.busy": "2024-07-09T10:09:07.835252Z",
     "iopub.status.idle": "2024-07-09T10:09:07.864666Z",
     "shell.execute_reply": "2024-07-09T10:09:07.863844Z",
     "shell.execute_reply.started": "2024-07-09T10:09:07.835618Z"
    }
   },
   "outputs": [
    {
     "data": {
      "text/plain": [
       "array([0.02348815, 0.69584045, 0.84949065, ..., 0.99375852, 0.02165435,\n",
       "       0.00361387])"
      ]
     },
     "execution_count": 27,
     "metadata": {},
     "output_type": "execute_result"
    }
   ],
   "source": [
    "y_pred = bst.predict(X_test)\n",
    "y_pred"
   ]
  },
  {
   "cell_type": "markdown",
   "id": "5ecb15d0-303c-4ac8-93af-d9fae11bac7a",
   "metadata": {},
   "source": [
    "## 五、特征选择\n",
    "\n",
    "### 5.1 计算特征的重要程度\n",
    "\n",
    "查看特征的重要程度，可以剔除权重较低的特征。"
   ]
  },
  {
   "cell_type": "code",
   "execution_count": 28,
   "id": "18026903-5e69-49c8-b1ba-8c57a3d14aad",
   "metadata": {
    "execution": {
     "iopub.execute_input": "2024-07-09T10:09:07.866419Z",
     "iopub.status.busy": "2024-07-09T10:09:07.865905Z",
     "iopub.status.idle": "2024-07-09T10:09:07.909664Z",
     "shell.execute_reply": "2024-07-09T10:09:07.908875Z",
     "shell.execute_reply.started": "2024-07-09T10:09:07.866389Z"
    }
   },
   "outputs": [
    {
     "name": "stdout",
     "output_type": "stream",
     "text": [
      "[rank 1] age: 564\n",
      "[rank 2] capital-gain: 451\n",
      "[rank 3] fnlwgt: 408\n",
      "[rank 4] hours-per-week: 387\n",
      "[rank 5] capital-loss: 370\n",
      "[rank 6] occupation: 343\n",
      "[rank 7] education-num: 247\n",
      "[rank 8] workclass: 136\n",
      "[rank 9] relationship: 127\n",
      "[rank 10] education: 125\n",
      "[rank 11] native-country: 113\n",
      "[rank 12] marital-status: 98\n",
      "[rank 13] sex: 86\n",
      "[rank 14] race: 25\n"
     ]
    }
   ],
   "source": [
    "items = [(k, v) for k, v in zip(gbm.feature_name(), gbm.feature_importance())]\n",
    "sorted_items = sorted(items, key=lambda e: e[1], reverse=True)\n",
    "for i, (k, v) in enumerate(sorted_items):\n",
    "    print(f'[rank {i+1}] {k}: {v}')"
   ]
  },
  {
   "cell_type": "code",
   "execution_count": 29,
   "id": "0f551a08-d06a-471c-8600-50fc9e43e339",
   "metadata": {
    "execution": {
     "iopub.execute_input": "2024-07-09T10:09:07.911435Z",
     "iopub.status.busy": "2024-07-09T10:09:07.911105Z",
     "iopub.status.idle": "2024-07-09T10:09:08.129599Z",
     "shell.execute_reply": "2024-07-09T10:09:08.128652Z",
     "shell.execute_reply.started": "2024-07-09T10:09:07.911407Z"
    }
   },
   "outputs": [
    {
     "data": {
      "image/png": "[encoded data removed]",
      "text/plain": [
       "<Figure size 640x480 with 1 Axes>"
      ]
     },
     "metadata": {},
     "output_type": "display_data"
    }
   ],
   "source": [
    "ax = lgb.plot_importance(gbm)\n",
    "plt.show()"
   ]
  },
  {
   "cell_type": "markdown",
   "id": "a325cbd1-3e12-40c4-8360-bcf788d5588e",
   "metadata": {},
   "source": [
    "### 5.2 多次实验求均值"
   ]
  },
  {
   "cell_type": "code",
   "execution_count": 30,
   "id": "60f23bb4-e454-4e14-b002-d8decdd9d1da",
   "metadata": {
    "execution": {
     "iopub.execute_input": "2024-07-09T10:09:08.131606Z",
     "iopub.status.busy": "2024-07-09T10:09:08.130976Z",
     "iopub.status.idle": "2024-07-09T10:09:14.624715Z",
     "shell.execute_reply": "2024-07-09T10:09:14.623846Z",
     "shell.execute_reply.started": "2024-07-09T10:09:08.131581Z"
    }
   },
   "outputs": [],
   "source": [
    "feature_importance_list = []\n",
    "for _ in range(30):\n",
    "    X_train, X_test, y_train, y_test = sklearn.model_selection.train_test_split(X, y, test_size=0.25)\n",
    "    d_train = lgb.Dataset(X_train,\n",
    "                          y_train,\n",
    "                          categorical_feature=cat_feats)\n",
    "    \n",
    "    weight = util.gen_scale_pos_weight(y_train)\n",
    "\n",
    "    params = {\n",
    "        \"objective\": \"binary\",\n",
    "        \"boosting_type\": \"gbdt\",\n",
    "        \"metric\": 'auc',\n",
    "        \"num_leaves\": 31,\n",
    "        \"learning_rate\": 0.05,\n",
    "        \"feature_fraction\": 0.9,\n",
    "        \"bagging_fraction\": 0.8,\n",
    "        \"bagging_freq\": 5,\n",
    "        \"verbose\": -1  # 仅输出 fatal 级别信息\n",
    "    }\n",
    "\n",
    "    gbm = lgb.train(params,\n",
    "                d_train,\n",
    "                num_boost_round=120,\n",
    "                categorical_feature=cat_feats)\n",
    "\n",
    "    feature_importance_list.append(gbm.feature_importance())"
   ]
  },
  {
   "cell_type": "code",
   "execution_count": 31,
   "id": "9a401743-fe2b-4fb6-9e8d-f5008e1e7ff6",
   "metadata": {
    "execution": {
     "iopub.execute_input": "2024-07-09T10:09:14.626132Z",
     "iopub.status.busy": "2024-07-09T10:09:14.625852Z",
     "iopub.status.idle": "2024-07-09T10:09:14.631981Z",
     "shell.execute_reply": "2024-07-09T10:09:14.631020Z",
     "shell.execute_reply.started": "2024-07-09T10:09:14.626108Z"
    }
   },
   "outputs": [],
   "source": [
    "items = {k: v for k, v in zip(gbm.feature_name(), np.array(feature_importance_list).T)}\n",
    "df_exp = pd.DataFrame(items)\n",
    "# df_exp"
   ]
  },
  {
   "cell_type": "code",
   "execution_count": 32,
   "id": "aa6cfa9e-f9f5-479a-8d48-f4bc4cd0960e",
   "metadata": {
    "execution": {
     "iopub.execute_input": "2024-07-09T10:09:14.633940Z",
     "iopub.status.busy": "2024-07-09T10:09:14.633458Z",
     "iopub.status.idle": "2024-07-09T10:09:14.856915Z",
     "shell.execute_reply": "2024-07-09T10:09:14.856156Z",
     "shell.execute_reply.started": "2024-07-09T10:09:14.633902Z"
    }
   },
   "outputs": [
    {
     "data": {
      "image/png": "[encoded data removed]",
      "text/plain": [
       "<Figure size 640x480 with 1 Axes>"
      ]
     },
     "metadata": {},
     "output_type": "display_data"
    }
   ],
   "source": [
    "# 绘制特征重要性曲线，柱体高度为均值，短线为标准差\n",
    "arr = sorted(zip(gbm.feature_name(), df_exp.mean(), df_exp.std()), key=lambda e: e[1], reverse=True)\n",
    "key = [e[0] for e in arr]\n",
    "val = [e[1] for e in arr]\n",
    "std = [e[2] for e in arr]\n",
    "\n",
    "plt.bar(key, val, yerr=std, color=\"g\", align=\"center\")\n",
    "plt.title(\"Feature Importances\")\n",
    "plt.xlabel(\"Features\")\n",
    "plt.xticks(rotation=90)\n",
    "plt.show()"
   ]
  },
  {
   "cell_type": "code",
   "execution_count": null,
   "id": "7c811b54-99dc-43a0-a418-5dee9cf248f9",
   "metadata": {},
   "outputs": [],
   "source": []
  }
 ],
 "metadata": {
  "kernelspec": {
   "display_name": "Python (py3.10)",
   "language": "python",
   "name": "python_3_10"
  },
  "language_info": {
   "codemirror_mode": {
    "name": "ipython",
    "version": 3
   },
   "file_extension": ".py",
   "mimetype": "text/x-python",
   "name": "python",
   "nbconvert_exporter": "python",
   "pygments_lexer": "ipython3",
   "version": "3.10.14"
  }
 },
 "nbformat": 4,
 "nbformat_minor": 5
}
